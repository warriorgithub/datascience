{
 "cells": [
  {
   "cell_type": "code",
   "execution_count": 1,
   "metadata": {},
   "outputs": [],
   "source": [
    "import pandas as pd"
   ]
  },
  {
   "cell_type": "code",
   "execution_count": 2,
   "metadata": {},
   "outputs": [],
   "source": [
    "wehealth_tranining = pd.read_excel('wehealth.xlsx')"
   ]
  },
  {
   "cell_type": "code",
   "execution_count": 3,
   "metadata": {},
   "outputs": [
    {
     "data": {
      "text/html": [
       "<div>\n",
       "<style scoped>\n",
       "    .dataframe tbody tr th:only-of-type {\n",
       "        vertical-align: middle;\n",
       "    }\n",
       "\n",
       "    .dataframe tbody tr th {\n",
       "        vertical-align: top;\n",
       "    }\n",
       "\n",
       "    .dataframe thead th {\n",
       "        text-align: right;\n",
       "    }\n",
       "</style>\n",
       "<table border=\"1\" class=\"dataframe\">\n",
       "  <thead>\n",
       "    <tr style=\"text-align: right;\">\n",
       "      <th></th>\n",
       "      <th>Sympt_1</th>\n",
       "      <th>Sympt_2</th>\n",
       "      <th>Sympt_3</th>\n",
       "      <th>Sympt_4</th>\n",
       "      <th>Sympt_5</th>\n",
       "      <th>Disease</th>\n",
       "    </tr>\n",
       "  </thead>\n",
       "  <tbody>\n",
       "    <tr>\n",
       "      <th>0</th>\n",
       "      <td>fever</td>\n",
       "      <td>headache</td>\n",
       "      <td>vomiting</td>\n",
       "      <td>muscle pain</td>\n",
       "      <td>shaking chills</td>\n",
       "      <td>Malaria</td>\n",
       "    </tr>\n",
       "    <tr>\n",
       "      <th>1</th>\n",
       "      <td>fever</td>\n",
       "      <td>headache</td>\n",
       "      <td>vomiting</td>\n",
       "      <td>muscle pain</td>\n",
       "      <td>Skin rash</td>\n",
       "      <td>Loda</td>\n",
       "    </tr>\n",
       "    <tr>\n",
       "      <th>2</th>\n",
       "      <td>fever</td>\n",
       "      <td>runny nose</td>\n",
       "      <td>sore throat</td>\n",
       "      <td>muscle pain</td>\n",
       "      <td>cough</td>\n",
       "      <td>Viral</td>\n",
       "    </tr>\n",
       "    <tr>\n",
       "      <th>3</th>\n",
       "      <td>fever</td>\n",
       "      <td>runny nose</td>\n",
       "      <td>sore throat</td>\n",
       "      <td>fatigue</td>\n",
       "      <td>sneezing</td>\n",
       "      <td>Viral</td>\n",
       "    </tr>\n",
       "    <tr>\n",
       "      <th>4</th>\n",
       "      <td>fever</td>\n",
       "      <td>headache</td>\n",
       "      <td>vomiting</td>\n",
       "      <td>muscle pain</td>\n",
       "      <td>eye pain</td>\n",
       "      <td>Dengu</td>\n",
       "    </tr>\n",
       "    <tr>\n",
       "      <th>5</th>\n",
       "      <td>abdominal pain</td>\n",
       "      <td>headache</td>\n",
       "      <td>muscle pain</td>\n",
       "      <td>fatigue</td>\n",
       "      <td>shaking chills</td>\n",
       "      <td>Malaria</td>\n",
       "    </tr>\n",
       "  </tbody>\n",
       "</table>\n",
       "</div>"
      ],
      "text/plain": [
       "          Sympt_1     Sympt_2      Sympt_3      Sympt_4         Sympt_5  \\\n",
       "0           fever    headache     vomiting  muscle pain  shaking chills   \n",
       "1           fever    headache     vomiting  muscle pain       Skin rash   \n",
       "2           fever  runny nose  sore throat  muscle pain           cough   \n",
       "3           fever  runny nose  sore throat      fatigue        sneezing   \n",
       "4           fever    headache     vomiting  muscle pain        eye pain   \n",
       "5  abdominal pain    headache  muscle pain      fatigue  shaking chills   \n",
       "\n",
       "   Disease  \n",
       "0  Malaria  \n",
       "1     Loda  \n",
       "2    Viral  \n",
       "3    Viral  \n",
       "4    Dengu  \n",
       "5  Malaria  "
      ]
     },
     "execution_count": 3,
     "metadata": {},
     "output_type": "execute_result"
    }
   ],
   "source": [
    "wehealth_tranining.head(10)"
   ]
  },
  {
   "cell_type": "code",
   "execution_count": 4,
   "metadata": {},
   "outputs": [],
   "source": [
    "#check unique values\n",
    "def uniqueValues(df,col):\n",
    "    return df[col].unique()"
   ]
  },
  {
   "cell_type": "code",
   "execution_count": 5,
   "metadata": {},
   "outputs": [
    {
     "data": {
      "text/plain": [
       "array(['headache', 'runny nose'], dtype=object)"
      ]
     },
     "execution_count": 5,
     "metadata": {},
     "output_type": "execute_result"
    }
   ],
   "source": [
    "#uniqueValues(wehealth_tranining,'Sympt_1')\n",
    "uniqueValues(wehealth_tranining,'Sympt_2')"
   ]
  },
  {
   "cell_type": "code",
   "execution_count": 6,
   "metadata": {},
   "outputs": [],
   "source": [
    "X = wehealth_tranining.drop('Disease',axis=1)"
   ]
  },
  {
   "cell_type": "code",
   "execution_count": 7,
   "metadata": {},
   "outputs": [
    {
     "data": {
      "text/plain": [
       "0    Malaria\n",
       "1       Loda\n",
       "2      Viral\n",
       "3      Viral\n",
       "4      Dengu\n",
       "5    Malaria\n",
       "Name: Disease, dtype: object"
      ]
     },
     "execution_count": 7,
     "metadata": {},
     "output_type": "execute_result"
    }
   ],
   "source": [
    "y= wehealth_tranining['Disease']\n",
    "y"
   ]
  },
  {
   "cell_type": "code",
   "execution_count": 8,
   "metadata": {},
   "outputs": [],
   "source": [
    "def class_counts(df):\n",
    "    counts={}\n",
    "    for rows in df.iloc[:,-1]:\n",
    "        if rows not in counts:\n",
    "            counts[rows] = 0\n",
    "        counts[rows]+=1\n",
    "    return counts"
   ]
  },
  {
   "cell_type": "code",
   "execution_count": 9,
   "metadata": {},
   "outputs": [
    {
     "data": {
      "text/plain": [
       "{'Malaria': 2, 'Loda': 1, 'Viral': 2, 'Dengu': 1}"
      ]
     },
     "execution_count": 9,
     "metadata": {},
     "output_type": "execute_result"
    }
   ],
   "source": [
    "class_counts(wehealth_tranining)"
   ]
  },
  {
   "cell_type": "code",
   "execution_count": 10,
   "metadata": {},
   "outputs": [],
   "source": [
    "def is_numeric(value):\n",
    "    return isinstance(value, int) or isinstance(value, float)"
   ]
  },
  {
   "cell_type": "code",
   "execution_count": 11,
   "metadata": {},
   "outputs": [
    {
     "data": {
      "text/plain": [
       "True"
      ]
     },
     "execution_count": 11,
     "metadata": {},
     "output_type": "execute_result"
    }
   ],
   "source": [
    "is_numeric(1)"
   ]
  },
  {
   "cell_type": "code",
   "execution_count": 12,
   "metadata": {},
   "outputs": [],
   "source": [
    "class Questions:\n",
    "    def __init__(self, column, value):\n",
    "        self.column = column\n",
    "        self.value = value\n",
    "\n",
    "    def matchs(self, example):\n",
    "        # Compare the feature value in an example to the\n",
    "        # feature value in this question.\n",
    "        #print(\"columns .    \",self.column, \"example  \" ,example)\n",
    "        val = example[self.column]\n",
    "        #print(val ,\"  =======  \",self.value, \"columns .    \",self.column, \"example  \" ,example)\n",
    "        #if is_numeric(val):\n",
    "         #   return val >= self.value\n",
    "        #else:\n",
    "        return val == self.value\n",
    "\n",
    "    def __repr__(self):\n",
    "        # This is just a helper method to print\n",
    "        # the question in a readable format.\n",
    "  #      if is_numeric(self.value):\n",
    "   #         condition = \">=\"\n",
    "        return \"Do you have %s ?\" % (str(self.value))"
   ]
  },
  {
   "cell_type": "code",
   "execution_count": 13,
   "metadata": {},
   "outputs": [
    {
     "data": {
      "text/plain": [
       "Do you have fever ?"
      ]
     },
     "execution_count": 13,
     "metadata": {},
     "output_type": "execute_result"
    }
   ],
   "source": [
    "q = Questions(X.Sympt_1,'fever')\n",
    "q"
   ]
  },
  {
   "cell_type": "code",
   "execution_count": null,
   "metadata": {},
   "outputs": [],
   "source": []
  },
  {
   "cell_type": "code",
   "execution_count": 14,
   "metadata": {},
   "outputs": [],
   "source": [
    "def partition(df, question):\n",
    "    \"\"\"Partitions a dataset.\n",
    "\n",
    "    For each row in the dataset, check if it matches the question. If\n",
    "    so, add it to 'true rows', otherwise, add it to 'false rows'.\n",
    "    \"\"\"\n",
    "    #print (\"df .  \",df)\n",
    "    true_branch, false_branch = [], []\n",
    "    for index, row in df.iterrows():\n",
    "        if question.matchs(row):\n",
    "            true_branch.append(row)\n",
    "        else:\n",
    "            false_branch.append(row)\n",
    "    return true_branch, false_branch"
   ]
  },
  {
   "cell_type": "code",
   "execution_count": 15,
   "metadata": {},
   "outputs": [],
   "source": [
    "true_branch, false_branch = partition(wehealth_tranining,Questions(0,'fever'))"
   ]
  },
  {
   "cell_type": "code",
   "execution_count": 16,
   "metadata": {
    "scrolled": true
   },
   "outputs": [
    {
     "data": {
      "text/html": [
       "<div>\n",
       "<style scoped>\n",
       "    .dataframe tbody tr th:only-of-type {\n",
       "        vertical-align: middle;\n",
       "    }\n",
       "\n",
       "    .dataframe tbody tr th {\n",
       "        vertical-align: top;\n",
       "    }\n",
       "\n",
       "    .dataframe thead th {\n",
       "        text-align: right;\n",
       "    }\n",
       "</style>\n",
       "<table border=\"1\" class=\"dataframe\">\n",
       "  <thead>\n",
       "    <tr style=\"text-align: right;\">\n",
       "      <th></th>\n",
       "      <th>Sympt_1</th>\n",
       "      <th>Sympt_2</th>\n",
       "      <th>Sympt_3</th>\n",
       "      <th>Sympt_4</th>\n",
       "      <th>Sympt_5</th>\n",
       "      <th>Disease</th>\n",
       "    </tr>\n",
       "  </thead>\n",
       "  <tbody>\n",
       "    <tr>\n",
       "      <th>0</th>\n",
       "      <td>fever</td>\n",
       "      <td>headache</td>\n",
       "      <td>vomiting</td>\n",
       "      <td>muscle pain</td>\n",
       "      <td>shaking chills</td>\n",
       "      <td>Malaria</td>\n",
       "    </tr>\n",
       "    <tr>\n",
       "      <th>1</th>\n",
       "      <td>fever</td>\n",
       "      <td>headache</td>\n",
       "      <td>vomiting</td>\n",
       "      <td>muscle pain</td>\n",
       "      <td>Skin rash</td>\n",
       "      <td>Loda</td>\n",
       "    </tr>\n",
       "    <tr>\n",
       "      <th>2</th>\n",
       "      <td>fever</td>\n",
       "      <td>runny nose</td>\n",
       "      <td>sore throat</td>\n",
       "      <td>muscle pain</td>\n",
       "      <td>cough</td>\n",
       "      <td>Viral</td>\n",
       "    </tr>\n",
       "    <tr>\n",
       "      <th>3</th>\n",
       "      <td>fever</td>\n",
       "      <td>runny nose</td>\n",
       "      <td>sore throat</td>\n",
       "      <td>fatigue</td>\n",
       "      <td>sneezing</td>\n",
       "      <td>Viral</td>\n",
       "    </tr>\n",
       "    <tr>\n",
       "      <th>4</th>\n",
       "      <td>fever</td>\n",
       "      <td>headache</td>\n",
       "      <td>vomiting</td>\n",
       "      <td>muscle pain</td>\n",
       "      <td>eye pain</td>\n",
       "      <td>Dengu</td>\n",
       "    </tr>\n",
       "  </tbody>\n",
       "</table>\n",
       "</div>"
      ],
      "text/plain": [
       "  Sympt_1     Sympt_2      Sympt_3      Sympt_4         Sympt_5  Disease\n",
       "0   fever    headache     vomiting  muscle pain  shaking chills  Malaria\n",
       "1   fever    headache     vomiting  muscle pain       Skin rash     Loda\n",
       "2   fever  runny nose  sore throat  muscle pain           cough    Viral\n",
       "3   fever  runny nose  sore throat      fatigue        sneezing    Viral\n",
       "4   fever    headache     vomiting  muscle pain        eye pain    Dengu"
      ]
     },
     "execution_count": 16,
     "metadata": {},
     "output_type": "execute_result"
    }
   ],
   "source": [
    "true_df = pd.DataFrame(true_branch,columns=None)\n",
    "true_df"
   ]
  },
  {
   "cell_type": "code",
   "execution_count": 17,
   "metadata": {},
   "outputs": [
    {
     "data": {
      "text/html": [
       "<div>\n",
       "<style scoped>\n",
       "    .dataframe tbody tr th:only-of-type {\n",
       "        vertical-align: middle;\n",
       "    }\n",
       "\n",
       "    .dataframe tbody tr th {\n",
       "        vertical-align: top;\n",
       "    }\n",
       "\n",
       "    .dataframe thead th {\n",
       "        text-align: right;\n",
       "    }\n",
       "</style>\n",
       "<table border=\"1\" class=\"dataframe\">\n",
       "  <thead>\n",
       "    <tr style=\"text-align: right;\">\n",
       "      <th></th>\n",
       "      <th>Sympt_1</th>\n",
       "      <th>Sympt_2</th>\n",
       "      <th>Sympt_3</th>\n",
       "      <th>Sympt_4</th>\n",
       "      <th>Sympt_5</th>\n",
       "      <th>Disease</th>\n",
       "    </tr>\n",
       "  </thead>\n",
       "  <tbody>\n",
       "    <tr>\n",
       "      <th>5</th>\n",
       "      <td>abdominal pain</td>\n",
       "      <td>headache</td>\n",
       "      <td>muscle pain</td>\n",
       "      <td>fatigue</td>\n",
       "      <td>shaking chills</td>\n",
       "      <td>Malaria</td>\n",
       "    </tr>\n",
       "  </tbody>\n",
       "</table>\n",
       "</div>"
      ],
      "text/plain": [
       "          Sympt_1   Sympt_2      Sympt_3  Sympt_4         Sympt_5  Disease\n",
       "5  abdominal pain  headache  muscle pain  fatigue  shaking chills  Malaria"
      ]
     },
     "execution_count": 17,
     "metadata": {},
     "output_type": "execute_result"
    }
   ],
   "source": [
    "false_df = pd.DataFrame(false_branch).head()\n",
    "false_df"
   ]
  },
  {
   "cell_type": "code",
   "execution_count": 18,
   "metadata": {},
   "outputs": [],
   "source": [
    "def gini(rows):\n",
    "    \"\"\"Calculate the Gini Impurity for a list of rows.\n",
    "\n",
    "    There are a few different ways to do this, I thought this one was\n",
    "    the most concise. See:\n",
    "    https://en.wikipedia.org/wiki/Decision_tree_learning#Gini_impurity\n",
    "    \"\"\"\n",
    "    counts = class_counts(rows)\n",
    "    #print(\"count   \",counts)\n",
    "    impurity = 1\n",
    "    for lbl in counts:\n",
    "        prob_of_lbl = counts[lbl] / float(len(rows))\n",
    "        impurity -= prob_of_lbl**2\n",
    "    return impurity"
   ]
  },
  {
   "cell_type": "code",
   "execution_count": 19,
   "metadata": {},
   "outputs": [],
   "source": [
    "pure = pd.DataFrame()\n",
    "pure = wehealth_tranining[{'Sympt_1'}]"
   ]
  },
  {
   "cell_type": "code",
   "execution_count": 20,
   "metadata": {},
   "outputs": [
    {
     "data": {
      "text/plain": [
       "0.2777777777777777"
      ]
     },
     "execution_count": 20,
     "metadata": {},
     "output_type": "execute_result"
    }
   ],
   "source": [
    "# this will return 0\n",
    "gini(pure)"
   ]
  },
  {
   "cell_type": "code",
   "execution_count": 21,
   "metadata": {},
   "outputs": [],
   "source": [
    "def information_gain(left, right, current_uncertainty):\n",
    "    \"\"\"Information Gain.\n",
    "\n",
    "    The uncertainty of the starting node, minus the weighted impurity of\n",
    "    two child nodes.\n",
    "    \"\"\"\n",
    "    p = float(len(left)) / (len(left) + len(right))\n",
    "    return current_uncertainty - p * gini(left) - (1 - p) * gini(right)"
   ]
  },
  {
   "cell_type": "code",
   "execution_count": 22,
   "metadata": {},
   "outputs": [
    {
     "data": {
      "text/plain": [
       "0.7222222222222222"
      ]
     },
     "execution_count": 22,
     "metadata": {},
     "output_type": "execute_result"
    }
   ],
   "source": [
    "current_uncertainty = gini(wehealth_tranining)\n",
    "current_uncertainty"
   ]
  },
  {
   "cell_type": "code",
   "execution_count": 23,
   "metadata": {},
   "outputs": [
    {
     "data": {
      "text/plain": [
       "0.3055555555555556"
      ]
     },
     "execution_count": 23,
     "metadata": {},
     "output_type": "execute_result"
    }
   ],
   "source": [
    "# How much information do we gain by partioning on 'fever'?\n",
    "true_rows, false_rows = partition(wehealth_tranining, Questions(1, 'headache'))\n",
    "information_gain(pd.DataFrame(true_rows), pd.DataFrame(false_rows), current_uncertainty)"
   ]
  },
  {
   "cell_type": "code",
   "execution_count": 24,
   "metadata": {},
   "outputs": [],
   "source": [
    "def find_best_split(rows):\n",
    "    \"\"\"Find the best question to ask by iterating over every feature / value\n",
    "    and calculating the information gain.\"\"\"\n",
    "    best_gain = 0  # keep track of the best information gain\n",
    "    best_question = None  # keep train of the feature / value that produced it\n",
    "    current_uncertainty = gini(rows)\n",
    "    #print(\"current_uncertainty    \",current_uncertainty)\n",
    "    \n",
    "    n_features = len(rows.columns)-1  # number of columns\n",
    "    \n",
    "    #print(\"rows    \",rows)\n",
    "    #print(\"n_features    \",n_features) \n",
    "\n",
    "    for col in range(n_features):  # for each feature\n",
    "        #print(\"col \" , rows.iloc[:,col])\n",
    "        #print(\"col .  \",col)\n",
    "        values = rows.iloc[:,col].unique()  # unique values in the column\n",
    "        #print(\"values .  \",values)\n",
    "\n",
    "        for val in values:  # for each value\n",
    "\n",
    "            question = Questions(col, val)\n",
    "            #print(\"question  \",question)\n",
    "\n",
    "            # try splitting the dataset\n",
    "            true_rows, false_rows = partition(rows, question)\n",
    "\n",
    "            # Skip this split if it doesn't divide the\n",
    "            # dataset.\n",
    "            if len(true_rows) == 0 or len(false_rows) == 0:\n",
    "                continue\n",
    "\n",
    "            # Calculate the information gain from this split\n",
    "            gain = information_gain(pd.DataFrame(true_rows), pd.DataFrame(false_rows), current_uncertainty)\n",
    "\n",
    "            # You actually can use '>' instead of '>=' here\n",
    "            # but I wanted the tree to look a certain way for our\n",
    "            # toy dataset.\n",
    "            if gain >= best_gain:\n",
    "                best_gain, best_question = gain, question\n",
    "\n",
    "    return best_gain, best_question"
   ]
  },
  {
   "cell_type": "code",
   "execution_count": 25,
   "metadata": {},
   "outputs": [
    {
     "data": {
      "text/plain": [
       "Do you have headache ?"
      ]
     },
     "execution_count": 25,
     "metadata": {},
     "output_type": "execute_result"
    }
   ],
   "source": [
    "# Find the best question to ask first for our toy dataset.\n",
    "best_gain, best_question = find_best_split(wehealth_tranining)\n",
    "best_question\n",
    "# FYI: is color == Red is just as good. See the note in the code above\n",
    "# where I used '>='.\n",
    "#######"
   ]
  },
  {
   "cell_type": "code",
   "execution_count": 26,
   "metadata": {},
   "outputs": [],
   "source": [
    "class Leaf:\n",
    "    \"\"\"A Leaf node classifies data.\n",
    "\n",
    "    This holds a dictionary of class (e.g., \"Apple\") -> number of times\n",
    "    it appears in the rows from the training data that reach this leaf.\n",
    "    \"\"\"\n",
    "\n",
    "    def __init__(self, rows):\n",
    "        self.predictions = class_counts(rows)"
   ]
  },
  {
   "cell_type": "code",
   "execution_count": 27,
   "metadata": {},
   "outputs": [],
   "source": [
    "class Decision_Node:\n",
    "    \"\"\"A Decision Node asks a question.\n",
    "\n",
    "    This holds a reference to the question, and to the two child nodes.\n",
    "    \"\"\"\n",
    "\n",
    "    def __init__(self,\n",
    "                 question,\n",
    "                 true_branch,\n",
    "                 false_branch):\n",
    "        self.question = question\n",
    "        self.true_branch = true_branch\n",
    "        self.false_branch = false_branch"
   ]
  },
  {
   "cell_type": "code",
   "execution_count": 28,
   "metadata": {},
   "outputs": [],
   "source": [
    "def build_tree(rows):\n",
    "    \"\"\"Builds the tree.\n",
    "\n",
    "    Rules of recursion: 1) Believe that it works. 2) Start by checking\n",
    "    for the base case (no further information gain). 3) Prepare for\n",
    "    giant stack traces.\n",
    "    \"\"\"\n",
    "\n",
    "    # Try partitioing the dataset on each of the unique attribute,\n",
    "    # calculate the information gain,\n",
    "    # and return the question that produces the highest gain.\n",
    "    gain, question = find_best_split(rows)\n",
    "   # print (\"gain \",gain)\n",
    "    #print (\"question \",question)\n",
    "    # Base case: no further info gain\n",
    "    # Since we can ask no further questions,\n",
    "    # we'll return a leaf.\n",
    "    if gain == 0:\n",
    "        return Leaf(rows)\n",
    "\n",
    "    # If we reach here, we have found a useful feature / value\n",
    "    # to partition on.\n",
    "    true_rows, false_rows = partition(rows, question)\n",
    "\n",
    "    # Recursively build the true branch.\n",
    "    true_branch = build_tree(pd.DataFrame(true_rows))\n",
    "\n",
    "    # Recursively build the false branch.\n",
    "    false_branch = build_tree(pd.DataFrame(false_rows))\n",
    "    \n",
    "    #print(\"true rows .  \",true_rows)\n",
    "    #print(\"false rows .  \",false_rows)\n",
    "    \n",
    "    #print (\"true_branch \",true_branch)\n",
    "    #print (\"false_branch \",false_branch)\n",
    "\n",
    "    # Return a Question node.\n",
    "    # This records the best feature / value to ask at this point,\n",
    "    # as well as the branches to follow\n",
    "    # dependingo on the answer.\n",
    "    return Decision_Node(question, true_branch, false_branch)"
   ]
  },
  {
   "cell_type": "code",
   "execution_count": 29,
   "metadata": {},
   "outputs": [],
   "source": [
    "def print_tree(node, spacing=\"\"):\n",
    "    \"\"\"World's most elegant tree printing function.\"\"\"\n",
    "\n",
    "    # Base case: we've reached a leaf\n",
    "    if isinstance(node, Leaf):\n",
    "        print (spacing + \"Predict\", node.predictions)\n",
    "        return\n",
    "\n",
    "    # Print the question at this node\n",
    "    print (spacing + str(node.question))\n",
    "\n",
    "    # Call this function recursively on the true branch\n",
    "    print (spacing + '--> True:')\n",
    "    print_tree(node.true_branch, spacing + \"  \")\n",
    "\n",
    "    # Call this function recursively on the false branch\n",
    "    print (spacing + '--> False:')\n",
    "    print_tree(node.false_branch, spacing + \"  \")"
   ]
  },
  {
   "cell_type": "code",
   "execution_count": 30,
   "metadata": {},
   "outputs": [],
   "source": [
    "my_tree = build_tree(wehealth_tranining)"
   ]
  },
  {
   "cell_type": "code",
   "execution_count": 31,
   "metadata": {},
   "outputs": [
    {
     "name": "stdout",
     "output_type": "stream",
     "text": [
      "Do you have headache ?\n",
      "--> True:\n",
      "  Do you have shaking chills ?\n",
      "  --> True:\n",
      "    Predict {'Malaria': 2}\n",
      "  --> False:\n",
      "    Do you have eye pain ?\n",
      "    --> True:\n",
      "      Predict {'Dengu': 1}\n",
      "    --> False:\n",
      "      Predict {'Loda': 1}\n",
      "--> False:\n",
      "  Predict {'Viral': 2}\n"
     ]
    }
   ],
   "source": [
    "print_tree(my_tree)"
   ]
  },
  {
   "cell_type": "code",
   "execution_count": 32,
   "metadata": {},
   "outputs": [],
   "source": [
    "def classify(row, node):\n",
    "    \"\"\"See the 'rules of recursion' above.\"\"\"\n",
    "    # Base case: we've reached a leaf\n",
    "    if isinstance(node, Leaf):\n",
    "        return node.predictions\n",
    "\n",
    "    # Decide whether to follow the true-branch or the false-branch.\n",
    "    # Compare the feature / value stored in the node,\n",
    "    # to the example we're considering.\n",
    "    print(row[1])\n",
    "    if node.question.matchs(row):\n",
    "        #print(\"row . \",row )\n",
    "        \n",
    "        return classify(row, node.true_branch)\n",
    "    else:\n",
    "        return classify(row, node.false_branch)"
   ]
  },
  {
   "cell_type": "code",
   "execution_count": 33,
   "metadata": {},
   "outputs": [
    {
     "name": "stdout",
     "output_type": "stream",
     "text": [
      "fever\n"
     ]
    },
    {
     "data": {
      "text/plain": [
       "{'Viral': 2}"
      ]
     },
     "execution_count": 33,
     "metadata": {},
     "output_type": "execute_result"
    }
   ],
   "source": [
    "classify(wehealth_tranining.iloc[:,0], my_tree)"
   ]
  },
  {
   "cell_type": "code",
   "execution_count": 34,
   "metadata": {},
   "outputs": [],
   "source": [
    "def print_leaf(counts):\n",
    "    \"\"\"A nicer way to print the predictions at a leaf.\"\"\"\n",
    "    total = sum(counts.values()) * 1.0\n",
    "    probs = {}\n",
    "    for lbl in counts.keys():\n",
    "        probs[lbl] = str(int(counts[lbl] / total * 100)) + \"%\"\n",
    "    return probs"
   ]
  },
  {
   "cell_type": "code",
   "execution_count": 35,
   "metadata": {},
   "outputs": [
    {
     "name": "stdout",
     "output_type": "stream",
     "text": [
      "fever\n"
     ]
    },
    {
     "data": {
      "text/plain": [
       "{'Viral': '100%'}"
      ]
     },
     "execution_count": 35,
     "metadata": {},
     "output_type": "execute_result"
    }
   ],
   "source": [
    "print_leaf(classify(wehealth_tranining.iloc[:,0], my_tree))"
   ]
  },
  {
   "cell_type": "code",
   "execution_count": 36,
   "metadata": {},
   "outputs": [
    {
     "name": "stdout",
     "output_type": "stream",
     "text": [
      "headache\n",
      "headache\n",
      "headache\n"
     ]
    },
    {
     "data": {
      "text/plain": [
       "{'Loda': '100%'}"
      ]
     },
     "execution_count": 36,
     "metadata": {},
     "output_type": "execute_result"
    }
   ],
   "source": [
    "print_leaf(classify(wehealth_tranining.iloc[:,1], my_tree))"
   ]
  },
  {
   "cell_type": "code",
   "execution_count": 37,
   "metadata": {},
   "outputs": [],
   "source": [
    "wehealth_testing = pd.read_excel('wehealth_testing.xlsx')"
   ]
  },
  {
   "cell_type": "code",
   "execution_count": 38,
   "metadata": {},
   "outputs": [
    {
     "name": "stdout",
     "output_type": "stream",
     "text": [
      "headache\n",
      "headache\n",
      "headache\n",
      "Actual: Skin rash. Predicted: {'Loda': '100%'}\n",
      "runny nose\n",
      "Actual: cough. Predicted: {'Viral': '100%'}\n",
      "headache\n",
      "headache\n",
      "Actual: shaking chills. Predicted: {'Malaria': '100%'}\n"
     ]
    }
   ],
   "source": [
    "for index,row in wehealth_testing.iterrows():\n",
    "    #print(\"row   \",row)\n",
    "    print (\"Actual: %s. Predicted: %s\" %\n",
    "           (row[-1], print_leaf(classify(row, my_tree))))"
   ]
  },
  {
   "cell_type": "code",
   "execution_count": 39,
   "metadata": {},
   "outputs": [
    {
     "data": {
      "text/html": [
       "<div>\n",
       "<style scoped>\n",
       "    .dataframe tbody tr th:only-of-type {\n",
       "        vertical-align: middle;\n",
       "    }\n",
       "\n",
       "    .dataframe tbody tr th {\n",
       "        vertical-align: top;\n",
       "    }\n",
       "\n",
       "    .dataframe thead th {\n",
       "        text-align: right;\n",
       "    }\n",
       "</style>\n",
       "<table border=\"1\" class=\"dataframe\">\n",
       "  <thead>\n",
       "    <tr style=\"text-align: right;\">\n",
       "      <th></th>\n",
       "      <th>Sympt_1</th>\n",
       "      <th>Sympt_2</th>\n",
       "      <th>Sympt_3</th>\n",
       "      <th>Sympt_4</th>\n",
       "      <th>Sympt_5</th>\n",
       "    </tr>\n",
       "  </thead>\n",
       "  <tbody>\n",
       "    <tr>\n",
       "      <th>0</th>\n",
       "      <td>fever</td>\n",
       "      <td>headache</td>\n",
       "      <td>vomiting</td>\n",
       "      <td>muscle pain</td>\n",
       "      <td>Skin rash</td>\n",
       "    </tr>\n",
       "    <tr>\n",
       "      <th>1</th>\n",
       "      <td>fever</td>\n",
       "      <td>runny nose</td>\n",
       "      <td>sore throat</td>\n",
       "      <td>muscle pain</td>\n",
       "      <td>cough</td>\n",
       "    </tr>\n",
       "    <tr>\n",
       "      <th>2</th>\n",
       "      <td>abdominal pain</td>\n",
       "      <td>headache</td>\n",
       "      <td>muscle pain</td>\n",
       "      <td>anemia</td>\n",
       "      <td>shaking chills</td>\n",
       "    </tr>\n",
       "  </tbody>\n",
       "</table>\n",
       "</div>"
      ],
      "text/plain": [
       "          Sympt_1     Sympt_2      Sympt_3      Sympt_4         Sympt_5\n",
       "0           fever    headache     vomiting  muscle pain       Skin rash\n",
       "1           fever  runny nose  sore throat  muscle pain           cough\n",
       "2  abdominal pain    headache  muscle pain       anemia  shaking chills"
      ]
     },
     "execution_count": 39,
     "metadata": {},
     "output_type": "execute_result"
    }
   ],
   "source": [
    "wehealth_testing"
   ]
  },
  {
   "cell_type": "code",
   "execution_count": 40,
   "metadata": {},
   "outputs": [],
   "source": [
    "user_input = [None]*4\n",
    "def user_interaction(rows):\n",
    "    gain, question = find_best_split(rows)\n",
    "   # print(gain, question)\n",
    "    if gain == 0:\n",
    "        print(Leaf(rows).predictions)\n",
    "        return\n",
    "    val = input(question)\n",
    "    #user_input.insert(question.column, val)\n",
    "    true_rows, false_rows = partition(rows, question)\n",
    "    if val.lower() == 'yes':\n",
    "        user_input.insert(question.column, question.value)\n",
    "        user_interaction(pd.DataFrame(true_rows))\n",
    "    elif val.lower() == 'no':\n",
    "        user_input.insert(question.column, question.value)        \n",
    "        user_interaction(pd.DataFrame(false_rows))\n",
    "    #print(user_input)\n",
    "    return user_input\n",
    "#if __name__ == '__main__':\n",
    "#     answer = user_interaction(wehealth_tranining)\n",
    "#     answer_df = pd.DataFrame(answer)\n",
    "#     #print(answer_df)\n",
    "#     print(classify(answer_df, my_tree))"
   ]
  },
  {
   "cell_type": "code",
   "execution_count": 41,
   "metadata": {},
   "outputs": [
    {
     "name": "stdout",
     "output_type": "stream",
     "text": [
      "0.3055555555555556 Do you have headache ?\n",
      "Do you have headache ?yes\n",
      "0.375 Do you have shaking chills ?\n",
      "Do you have shaking chills ?no\n",
      "0.5 Do you have eye pain ?\n",
      "Do you have eye pain ?yes\n",
      "0 None\n",
      "{'Dengu': 1}\n"
     ]
    },
    {
     "data": {
      "text/plain": [
       "[None, 'headache', None, None, 'eye pain', 'shaking chills', None]"
      ]
     },
     "execution_count": 41,
     "metadata": {},
     "output_type": "execute_result"
    }
   ],
   "source": [
    "user_interaction(wehealth_tranining)"
   ]
  },
  {
   "cell_type": "code",
   "execution_count": null,
   "metadata": {},
   "outputs": [],
   "source": []
  }
 ],
 "metadata": {
  "kernelspec": {
   "display_name": "Python 3",
   "language": "python",
   "name": "python3"
  },
  "language_info": {
   "codemirror_mode": {
    "name": "ipython",
    "version": 3
   },
   "file_extension": ".py",
   "mimetype": "text/x-python",
   "name": "python",
   "nbconvert_exporter": "python",
   "pygments_lexer": "ipython3",
   "version": "3.7.3"
  }
 },
 "nbformat": 4,
 "nbformat_minor": 2
}
