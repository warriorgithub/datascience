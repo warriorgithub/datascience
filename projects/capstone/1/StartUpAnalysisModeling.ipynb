{
 "cells": [
  {
   "cell_type": "code",
   "execution_count": 89,
   "metadata": {},
   "outputs": [],
   "source": [
    "import pandas as pd\n",
    "import numpy as np\n",
    "import matplotlib.pyplot as plt\n",
    "import seaborn as sns\n",
    "import datetime\n",
    "%matplotlib inline"
   ]
  },
  {
   "cell_type": "code",
   "execution_count": 90,
   "metadata": {},
   "outputs": [],
   "source": [
    "#file = \"DataAcquisitionMerging/startup_investment_world_data.xlsx\"\n",
    "file = \"DataAcquisitionMerging/requireddata.xlsx\"\n",
    "pd.options.display.float_format = '{:.2f}'.format  # to get rid of large numbers in excel\n",
    "funding_data = pd.read_excel(file,index=False)\n",
    "funding_data = funding_data.loc[:, ~funding_data.columns.str.contains('^Unnamed')]\n"
   ]
  },
  {
   "cell_type": "code",
   "execution_count": 91,
   "metadata": {},
   "outputs": [
    {
     "data": {
      "text/html": [
       "<div>\n",
       "<style scoped>\n",
       "    .dataframe tbody tr th:only-of-type {\n",
       "        vertical-align: middle;\n",
       "    }\n",
       "\n",
       "    .dataframe tbody tr th {\n",
       "        vertical-align: top;\n",
       "    }\n",
       "\n",
       "    .dataframe thead th {\n",
       "        text-align: right;\n",
       "    }\n",
       "</style>\n",
       "<table border=\"1\" class=\"dataframe\">\n",
       "  <thead>\n",
       "    <tr style=\"text-align: right;\">\n",
       "      <th></th>\n",
       "      <th>company_name</th>\n",
       "      <th>company_market</th>\n",
       "      <th>company_city</th>\n",
       "      <th>investor_name</th>\n",
       "      <th>investor_market</th>\n",
       "      <th>investor_city</th>\n",
       "      <th>funding_round_type</th>\n",
       "      <th>funded_at</th>\n",
       "      <th>funded_quarter</th>\n",
       "      <th>funded_year</th>\n",
       "      <th>raised_amount_usd</th>\n",
       "    </tr>\n",
       "  </thead>\n",
       "  <tbody>\n",
       "    <tr>\n",
       "      <th>0</th>\n",
       "      <td>Lenovo</td>\n",
       "      <td>Hardware</td>\n",
       "      <td>Morrisville</td>\n",
       "      <td>Chinese Academy Of Sciences</td>\n",
       "      <td>Education</td>\n",
       "      <td>Beijing</td>\n",
       "      <td>undisclosed</td>\n",
       "      <td>1984-01-01</td>\n",
       "      <td>1984-Q1</td>\n",
       "      <td>1984</td>\n",
       "      <td>12663383.67</td>\n",
       "    </tr>\n",
       "    <tr>\n",
       "      <th>1</th>\n",
       "      <td>Cisco</td>\n",
       "      <td>Software</td>\n",
       "      <td>San Jose</td>\n",
       "      <td>Sequoia Capital</td>\n",
       "      <td>Venture Capital</td>\n",
       "      <td>Menlo Park</td>\n",
       "      <td>venture</td>\n",
       "      <td>1987-01-01</td>\n",
       "      <td>1987-Q1</td>\n",
       "      <td>1987</td>\n",
       "      <td>2500000.00</td>\n",
       "    </tr>\n",
       "    <tr>\n",
       "      <th>2</th>\n",
       "      <td>Office Depot</td>\n",
       "      <td>E-Commerce</td>\n",
       "      <td>Boca Raton</td>\n",
       "      <td>Upfront Ventures</td>\n",
       "      <td>Finance</td>\n",
       "      <td>Los Angeles</td>\n",
       "      <td>undisclosed</td>\n",
       "      <td>1989-06-01</td>\n",
       "      <td>1989-Q2</td>\n",
       "      <td>1989</td>\n",
       "      <td>12663383.67</td>\n",
       "    </tr>\n",
       "    <tr>\n",
       "      <th>3</th>\n",
       "      <td>Market Wire</td>\n",
       "      <td>Advertising</td>\n",
       "      <td>El Segundo</td>\n",
       "      <td>Perkins Coie</td>\n",
       "      <td>Legal</td>\n",
       "      <td>Anchorage</td>\n",
       "      <td>venture</td>\n",
       "      <td>1990-11-30</td>\n",
       "      <td>1990-Q4</td>\n",
       "      <td>1990</td>\n",
       "      <td>17550000.00</td>\n",
       "    </tr>\n",
       "    <tr>\n",
       "      <th>4</th>\n",
       "      <td>Market Wire</td>\n",
       "      <td>Advertising</td>\n",
       "      <td>El Segundo</td>\n",
       "      <td>Sequoia Capital</td>\n",
       "      <td>Venture Capital</td>\n",
       "      <td>Menlo Park</td>\n",
       "      <td>venture</td>\n",
       "      <td>1990-11-30</td>\n",
       "      <td>1990-Q4</td>\n",
       "      <td>1990</td>\n",
       "      <td>17550000.00</td>\n",
       "    </tr>\n",
       "  </tbody>\n",
       "</table>\n",
       "</div>"
      ],
      "text/plain": [
       "   company_name company_market company_city                investor_name  \\\n",
       "0        Lenovo       Hardware  Morrisville  Chinese Academy Of Sciences   \n",
       "1         Cisco       Software     San Jose              Sequoia Capital   \n",
       "2  Office Depot     E-Commerce   Boca Raton             Upfront Ventures   \n",
       "3   Market Wire    Advertising   El Segundo                 Perkins Coie   \n",
       "4   Market Wire    Advertising   El Segundo              Sequoia Capital   \n",
       "\n",
       "   investor_market investor_city funding_round_type  funded_at funded_quarter  \\\n",
       "0        Education       Beijing        undisclosed 1984-01-01        1984-Q1   \n",
       "1  Venture Capital    Menlo Park            venture 1987-01-01        1987-Q1   \n",
       "2          Finance   Los Angeles        undisclosed 1989-06-01        1989-Q2   \n",
       "3            Legal     Anchorage            venture 1990-11-30        1990-Q4   \n",
       "4  Venture Capital    Menlo Park            venture 1990-11-30        1990-Q4   \n",
       "\n",
       "   funded_year  raised_amount_usd  \n",
       "0         1984        12663383.67  \n",
       "1         1987         2500000.00  \n",
       "2         1989        12663383.67  \n",
       "3         1990        17550000.00  \n",
       "4         1990        17550000.00  "
      ]
     },
     "execution_count": 91,
     "metadata": {},
     "output_type": "execute_result"
    }
   ],
   "source": [
    "funding_data.head()"
   ]
  },
  {
   "cell_type": "markdown",
   "metadata": {},
   "source": [
    "### Find outliars in y= raised_amout_usd"
   ]
  },
  {
   "cell_type": "code",
   "execution_count": 92,
   "metadata": {},
   "outputs": [],
   "source": [
    "acutal = []\n",
    "def find_outliers(funding):\n",
    "    population_mean = funding.mean()\n",
    "    population_std = funding.std()\n",
    "    anamoly_cut_off = population_std*3\n",
    "    \n",
    "    lower_limit = population_mean - anamoly_cut_off\n",
    "    upper_limit = population_mean + anamoly_cut_off \n",
    "    for outlier in funding:\n",
    "        if outlier < upper_limit and outlier > lower_limit:\n",
    "            acutal.append(outlier)\n",
    "    return acutal;\n"
   ]
  },
  {
   "cell_type": "code",
   "execution_count": 93,
   "metadata": {},
   "outputs": [
    {
     "data": {
      "text/plain": [
       "26080"
      ]
     },
     "execution_count": 93,
     "metadata": {},
     "output_type": "execute_result"
    }
   ],
   "source": [
    "removed_outliers = find_outliers(funding_data['raised_amount_usd'])\n",
    "len(removed_outliers)"
   ]
  },
  {
   "cell_type": "code",
   "execution_count": 94,
   "metadata": {},
   "outputs": [],
   "source": [
    "actual_data = funding_data[funding_data['raised_amount_usd'].isin(removed_outliers)];\n",
    "filter_funds = pd.DataFrame(actual_data)\n"
   ]
  },
  {
   "cell_type": "code",
   "execution_count": 95,
   "metadata": {},
   "outputs": [
    {
     "data": {
      "text/html": [
       "<div>\n",
       "<style scoped>\n",
       "    .dataframe tbody tr th:only-of-type {\n",
       "        vertical-align: middle;\n",
       "    }\n",
       "\n",
       "    .dataframe tbody tr th {\n",
       "        vertical-align: top;\n",
       "    }\n",
       "\n",
       "    .dataframe thead th {\n",
       "        text-align: right;\n",
       "    }\n",
       "</style>\n",
       "<table border=\"1\" class=\"dataframe\">\n",
       "  <thead>\n",
       "    <tr style=\"text-align: right;\">\n",
       "      <th></th>\n",
       "      <th>company_name</th>\n",
       "      <th>company_market</th>\n",
       "      <th>company_city</th>\n",
       "      <th>investor_name</th>\n",
       "      <th>investor_market</th>\n",
       "      <th>investor_city</th>\n",
       "      <th>funding_round_type</th>\n",
       "      <th>funded_at</th>\n",
       "      <th>funded_quarter</th>\n",
       "      <th>funded_year</th>\n",
       "      <th>raised_amount_usd</th>\n",
       "    </tr>\n",
       "  </thead>\n",
       "  <tbody>\n",
       "    <tr>\n",
       "      <th>0</th>\n",
       "      <td>Lenovo</td>\n",
       "      <td>Hardware</td>\n",
       "      <td>Morrisville</td>\n",
       "      <td>Chinese Academy Of Sciences</td>\n",
       "      <td>Education</td>\n",
       "      <td>Beijing</td>\n",
       "      <td>undisclosed</td>\n",
       "      <td>1984-01-01</td>\n",
       "      <td>1984-Q1</td>\n",
       "      <td>1984</td>\n",
       "      <td>12663383.67</td>\n",
       "    </tr>\n",
       "    <tr>\n",
       "      <th>1</th>\n",
       "      <td>Cisco</td>\n",
       "      <td>Software</td>\n",
       "      <td>San Jose</td>\n",
       "      <td>Sequoia Capital</td>\n",
       "      <td>Venture Capital</td>\n",
       "      <td>Menlo Park</td>\n",
       "      <td>venture</td>\n",
       "      <td>1987-01-01</td>\n",
       "      <td>1987-Q1</td>\n",
       "      <td>1987</td>\n",
       "      <td>2500000.00</td>\n",
       "    </tr>\n",
       "    <tr>\n",
       "      <th>2</th>\n",
       "      <td>Office Depot</td>\n",
       "      <td>E-Commerce</td>\n",
       "      <td>Boca Raton</td>\n",
       "      <td>Upfront Ventures</td>\n",
       "      <td>Finance</td>\n",
       "      <td>Los Angeles</td>\n",
       "      <td>undisclosed</td>\n",
       "      <td>1989-06-01</td>\n",
       "      <td>1989-Q2</td>\n",
       "      <td>1989</td>\n",
       "      <td>12663383.67</td>\n",
       "    </tr>\n",
       "    <tr>\n",
       "      <th>3</th>\n",
       "      <td>Market Wire</td>\n",
       "      <td>Advertising</td>\n",
       "      <td>El Segundo</td>\n",
       "      <td>Perkins Coie</td>\n",
       "      <td>Legal</td>\n",
       "      <td>Anchorage</td>\n",
       "      <td>venture</td>\n",
       "      <td>1990-11-30</td>\n",
       "      <td>1990-Q4</td>\n",
       "      <td>1990</td>\n",
       "      <td>17550000.00</td>\n",
       "    </tr>\n",
       "    <tr>\n",
       "      <th>4</th>\n",
       "      <td>Market Wire</td>\n",
       "      <td>Advertising</td>\n",
       "      <td>El Segundo</td>\n",
       "      <td>Sequoia Capital</td>\n",
       "      <td>Venture Capital</td>\n",
       "      <td>Menlo Park</td>\n",
       "      <td>venture</td>\n",
       "      <td>1990-11-30</td>\n",
       "      <td>1990-Q4</td>\n",
       "      <td>1990</td>\n",
       "      <td>17550000.00</td>\n",
       "    </tr>\n",
       "  </tbody>\n",
       "</table>\n",
       "</div>"
      ],
      "text/plain": [
       "   company_name company_market company_city                investor_name  \\\n",
       "0        Lenovo       Hardware  Morrisville  Chinese Academy Of Sciences   \n",
       "1         Cisco       Software     San Jose              Sequoia Capital   \n",
       "2  Office Depot     E-Commerce   Boca Raton             Upfront Ventures   \n",
       "3   Market Wire    Advertising   El Segundo                 Perkins Coie   \n",
       "4   Market Wire    Advertising   El Segundo              Sequoia Capital   \n",
       "\n",
       "   investor_market investor_city funding_round_type  funded_at funded_quarter  \\\n",
       "0        Education       Beijing        undisclosed 1984-01-01        1984-Q1   \n",
       "1  Venture Capital    Menlo Park            venture 1987-01-01        1987-Q1   \n",
       "2          Finance   Los Angeles        undisclosed 1989-06-01        1989-Q2   \n",
       "3            Legal     Anchorage            venture 1990-11-30        1990-Q4   \n",
       "4  Venture Capital    Menlo Park            venture 1990-11-30        1990-Q4   \n",
       "\n",
       "   funded_year  raised_amount_usd  \n",
       "0         1984        12663383.67  \n",
       "1         1987         2500000.00  \n",
       "2         1989        12663383.67  \n",
       "3         1990        17550000.00  \n",
       "4         1990        17550000.00  "
      ]
     },
     "execution_count": 95,
     "metadata": {},
     "output_type": "execute_result"
    }
   ],
   "source": [
    "filter_funds.head()"
   ]
  },
  {
   "cell_type": "markdown",
   "metadata": {},
   "source": [
    "### Lets visulaize the data"
   ]
  },
  {
   "cell_type": "markdown",
   "metadata": {},
   "source": [
    "#### By looking  scatter plot we can say at tech increase year by year the funding also get increase"
   ]
  },
  {
   "cell_type": "code",
   "execution_count": 96,
   "metadata": {},
   "outputs": [
    {
     "data": {
      "text/plain": [
       "<matplotlib.collections.PathCollection at 0x1a2b5ae390>"
      ]
     },
     "execution_count": 96,
     "metadata": {},
     "output_type": "execute_result"
    },
    {
     "data": {
      "image/png": "[encoded data removed]",
      "text/plain": [
       "<Figure size 720x576 with 1 Axes>"
      ]
     },
     "metadata": {
      "needs_background": "light"
     },
     "output_type": "display_data"
    }
   ],
   "source": [
    "plt.figure(figsize=(10,8))\n",
    "plt.xticks(rotation='vertical')\n",
    "plt.scatter(filter_funds['funded_year'],filter_funds['raised_amount_usd'])"
   ]
  },
  {
   "cell_type": "markdown",
   "metadata": {},
   "source": [
    "#### By looking  scatter plot we can most compnies get higher funds when funding type is \n",
    "#### venture\n",
    "#### debt_financing\n",
    "#### private_equity\n"
   ]
  },
  {
   "cell_type": "code",
   "execution_count": 97,
   "metadata": {},
   "outputs": [
    {
     "data": {
      "text/plain": [
       "<matplotlib.collections.PathCollection at 0x1a283deb70>"
      ]
     },
     "execution_count": 97,
     "metadata": {},
     "output_type": "execute_result"
    },
    {
     "data": {
      "image/png": "[encoded data removed]",
      "text/plain": [
       "<Figure size 720x576 with 1 Axes>"
      ]
     },
     "metadata": {
      "needs_background": "light"
     },
     "output_type": "display_data"
    }
   ],
   "source": [
    "plt.figure(figsize=(10,8))\n",
    "plt.xticks(rotation='vertical')\n",
    "plt.scatter(filter_funds['funding_round_type'],filter_funds['raised_amount_usd'])"
   ]
  },
  {
   "cell_type": "code",
   "execution_count": 98,
   "metadata": {},
   "outputs": [
    {
     "data": {
      "text/plain": [
       "<matplotlib.collections.PathCollection at 0x1a2e5c8780>"
      ]
     },
     "execution_count": 98,
     "metadata": {},
     "output_type": "execute_result"
    },
    {
     "data": {
      "image/png": "[encoded data removed]",
      "text/plain": [
       "<Figure size 720x576 with 1 Axes>"
      ]
     },
     "metadata": {
      "needs_background": "light"
     },
     "output_type": "display_data"
    }
   ],
   "source": [
    "filter_funds.sort_values(\"raised_amount_usd\", axis = 0, ascending = True, \n",
    "                 inplace = True, na_position ='last') \n",
    "top100 = filter_funds.head(100)\n",
    "plt.figure(figsize=(10,8))\n",
    "plt.xticks(rotation='vertical')\n",
    "plt.scatter(top100['investor_city'],top100['raised_amount_usd'])"
   ]
  },
  {
   "cell_type": "markdown",
   "metadata": {},
   "source": [
    "#### Extract month from 'funded_at' column and drop it \n",
    "#### Created new column named as 'funded_month'"
   ]
  },
  {
   "cell_type": "code",
   "execution_count": 99,
   "metadata": {},
   "outputs": [],
   "source": [
    "filter_funds['funded_month'] = pd.DatetimeIndex(filter_funds['funded_at']).month\n",
    "filter_funds = filter_funds.drop('funded_at',axis=1)"
   ]
  },
  {
   "cell_type": "code",
   "execution_count": 100,
   "metadata": {},
   "outputs": [
    {
     "name": "stdout",
     "output_type": "stream",
     "text": [
      "<class 'pandas.core.frame.DataFrame'>\n",
      "Int64Index: 26080 entries, 25582 to 25845\n",
      "Data columns (total 11 columns):\n",
      "company_name          26080 non-null object\n",
      "company_market        26080 non-null object\n",
      "company_city          26080 non-null object\n",
      "investor_name         26080 non-null object\n",
      "investor_market       26080 non-null object\n",
      "investor_city         26080 non-null object\n",
      "funding_round_type    26080 non-null object\n",
      "funded_quarter        26080 non-null object\n",
      "funded_year           26080 non-null int64\n",
      "raised_amount_usd     26080 non-null float64\n",
      "funded_month          26080 non-null int64\n",
      "dtypes: float64(1), int64(2), object(8)\n",
      "memory usage: 2.4+ MB\n"
     ]
    }
   ],
   "source": [
    "filter_funds.info()"
   ]
  },
  {
   "cell_type": "code",
   "execution_count": 101,
   "metadata": {},
   "outputs": [],
   "source": [
    "filter_funds['raised_amount_usd'] = filter_funds['raised_amount_usd'].astype(int)"
   ]
  },
  {
   "cell_type": "markdown",
   "metadata": {},
   "source": [
    "\n",
    "###### y = raised_amount_usd"
   ]
  },
  {
   "cell_type": "markdown",
   "metadata": {},
   "source": [
    "##### Convert categorial features to continous variable"
   ]
  },
  {
   "cell_type": "code",
   "execution_count": 102,
   "metadata": {},
   "outputs": [],
   "source": [
    "dummies = filter_funds\n",
    "dummies = dummies.drop('company_name',axis=1)"
   ]
  },
  {
   "cell_type": "code",
   "execution_count": 103,
   "metadata": {},
   "outputs": [],
   "source": [
    "dummies = pd.get_dummies(data=dummies, columns=['funding_round_type','funded_year', 'funded_month'])\n",
    "\n",
    "#dummies = pd.get_dummies(data=dummies, columns=[ 'funded_year'],prefix='funded_year').iloc[:,1:]\n"
   ]
  },
  {
   "cell_type": "code",
   "execution_count": 104,
   "metadata": {},
   "outputs": [
    {
     "data": {
      "text/html": [
       "<div>\n",
       "<style scoped>\n",
       "    .dataframe tbody tr th:only-of-type {\n",
       "        vertical-align: middle;\n",
       "    }\n",
       "\n",
       "    .dataframe tbody tr th {\n",
       "        vertical-align: top;\n",
       "    }\n",
       "\n",
       "    .dataframe thead th {\n",
       "        text-align: right;\n",
       "    }\n",
       "</style>\n",
       "<table border=\"1\" class=\"dataframe\">\n",
       "  <thead>\n",
       "    <tr style=\"text-align: right;\">\n",
       "      <th></th>\n",
       "      <th>company_market</th>\n",
       "      <th>company_city</th>\n",
       "      <th>investor_name</th>\n",
       "      <th>investor_market</th>\n",
       "      <th>investor_city</th>\n",
       "      <th>funded_quarter</th>\n",
       "      <th>raised_amount_usd</th>\n",
       "      <th>funding_round_type_angel</th>\n",
       "      <th>funding_round_type_convertible_note</th>\n",
       "      <th>funding_round_type_debt_financing</th>\n",
       "      <th>...</th>\n",
       "      <th>funded_month_3</th>\n",
       "      <th>funded_month_4</th>\n",
       "      <th>funded_month_5</th>\n",
       "      <th>funded_month_6</th>\n",
       "      <th>funded_month_7</th>\n",
       "      <th>funded_month_8</th>\n",
       "      <th>funded_month_9</th>\n",
       "      <th>funded_month_10</th>\n",
       "      <th>funded_month_11</th>\n",
       "      <th>funded_month_12</th>\n",
       "    </tr>\n",
       "  </thead>\n",
       "  <tbody>\n",
       "    <tr>\n",
       "      <th>25582</th>\n",
       "      <td>Marketplaces</td>\n",
       "      <td>New York</td>\n",
       "      <td>Vayner/RSE</td>\n",
       "      <td>Venture Capital</td>\n",
       "      <td>New York</td>\n",
       "      <td>2014-Q4</td>\n",
       "      <td>0</td>\n",
       "      <td>0</td>\n",
       "      <td>0</td>\n",
       "      <td>0</td>\n",
       "      <td>...</td>\n",
       "      <td>0</td>\n",
       "      <td>0</td>\n",
       "      <td>0</td>\n",
       "      <td>0</td>\n",
       "      <td>0</td>\n",
       "      <td>0</td>\n",
       "      <td>0</td>\n",
       "      <td>1</td>\n",
       "      <td>0</td>\n",
       "      <td>0</td>\n",
       "    </tr>\n",
       "    <tr>\n",
       "      <th>24084</th>\n",
       "      <td>E-Commerce</td>\n",
       "      <td>Belgrade</td>\n",
       "      <td>StartLabs</td>\n",
       "      <td>Venture Capital</td>\n",
       "      <td>San Francisco</td>\n",
       "      <td>2014-Q2</td>\n",
       "      <td>0</td>\n",
       "      <td>0</td>\n",
       "      <td>0</td>\n",
       "      <td>0</td>\n",
       "      <td>...</td>\n",
       "      <td>0</td>\n",
       "      <td>0</td>\n",
       "      <td>0</td>\n",
       "      <td>1</td>\n",
       "      <td>0</td>\n",
       "      <td>0</td>\n",
       "      <td>0</td>\n",
       "      <td>0</td>\n",
       "      <td>0</td>\n",
       "      <td>0</td>\n",
       "    </tr>\n",
       "    <tr>\n",
       "      <th>25681</th>\n",
       "      <td>Internet Marketing</td>\n",
       "      <td>San Francisco</td>\n",
       "      <td>Adobe Systems</td>\n",
       "      <td>Photo Editing</td>\n",
       "      <td>San Jose</td>\n",
       "      <td>2014-Q4</td>\n",
       "      <td>0</td>\n",
       "      <td>0</td>\n",
       "      <td>0</td>\n",
       "      <td>0</td>\n",
       "      <td>...</td>\n",
       "      <td>0</td>\n",
       "      <td>0</td>\n",
       "      <td>0</td>\n",
       "      <td>0</td>\n",
       "      <td>0</td>\n",
       "      <td>0</td>\n",
       "      <td>0</td>\n",
       "      <td>1</td>\n",
       "      <td>0</td>\n",
       "      <td>0</td>\n",
       "    </tr>\n",
       "    <tr>\n",
       "      <th>25685</th>\n",
       "      <td>Internet Marketing</td>\n",
       "      <td>San Francisco</td>\n",
       "      <td>Costanoa Venture Capital</td>\n",
       "      <td>Venture Capital</td>\n",
       "      <td>Palo Alto</td>\n",
       "      <td>2014-Q4</td>\n",
       "      <td>0</td>\n",
       "      <td>0</td>\n",
       "      <td>0</td>\n",
       "      <td>0</td>\n",
       "      <td>...</td>\n",
       "      <td>0</td>\n",
       "      <td>0</td>\n",
       "      <td>0</td>\n",
       "      <td>0</td>\n",
       "      <td>0</td>\n",
       "      <td>0</td>\n",
       "      <td>0</td>\n",
       "      <td>1</td>\n",
       "      <td>0</td>\n",
       "      <td>0</td>\n",
       "    </tr>\n",
       "    <tr>\n",
       "      <th>12548</th>\n",
       "      <td>Software</td>\n",
       "      <td>Fargo</td>\n",
       "      <td>Arthur Ventures</td>\n",
       "      <td>Venture Capital</td>\n",
       "      <td>Fargo</td>\n",
       "      <td>2012-Q1</td>\n",
       "      <td>0</td>\n",
       "      <td>0</td>\n",
       "      <td>0</td>\n",
       "      <td>0</td>\n",
       "      <td>...</td>\n",
       "      <td>0</td>\n",
       "      <td>0</td>\n",
       "      <td>0</td>\n",
       "      <td>0</td>\n",
       "      <td>0</td>\n",
       "      <td>0</td>\n",
       "      <td>0</td>\n",
       "      <td>0</td>\n",
       "      <td>0</td>\n",
       "      <td>0</td>\n",
       "    </tr>\n",
       "  </tbody>\n",
       "</table>\n",
       "<p>5 rows × 59 columns</p>\n",
       "</div>"
      ],
      "text/plain": [
       "           company_market   company_city             investor_name  \\\n",
       "25582        Marketplaces       New York                Vayner/RSE   \n",
       "24084          E-Commerce       Belgrade                 StartLabs   \n",
       "25681  Internet Marketing  San Francisco             Adobe Systems   \n",
       "25685  Internet Marketing  San Francisco  Costanoa Venture Capital   \n",
       "12548            Software          Fargo           Arthur Ventures   \n",
       "\n",
       "       investor_market  investor_city funded_quarter  raised_amount_usd  \\\n",
       "25582  Venture Capital       New York        2014-Q4                  0   \n",
       "24084  Venture Capital  San Francisco        2014-Q2                  0   \n",
       "25681    Photo Editing       San Jose        2014-Q4                  0   \n",
       "25685  Venture Capital      Palo Alto        2014-Q4                  0   \n",
       "12548  Venture Capital          Fargo        2012-Q1                  0   \n",
       "\n",
       "       funding_round_type_angel  funding_round_type_convertible_note  \\\n",
       "25582                         0                                    0   \n",
       "24084                         0                                    0   \n",
       "25681                         0                                    0   \n",
       "25685                         0                                    0   \n",
       "12548                         0                                    0   \n",
       "\n",
       "       funding_round_type_debt_financing  ...  funded_month_3  funded_month_4  \\\n",
       "25582                                  0  ...               0               0   \n",
       "24084                                  0  ...               0               0   \n",
       "25681                                  0  ...               0               0   \n",
       "25685                                  0  ...               0               0   \n",
       "12548                                  0  ...               0               0   \n",
       "\n",
       "       funded_month_5  funded_month_6  funded_month_7  funded_month_8  \\\n",
       "25582               0               0               0               0   \n",
       "24084               0               1               0               0   \n",
       "25681               0               0               0               0   \n",
       "25685               0               0               0               0   \n",
       "12548               0               0               0               0   \n",
       "\n",
       "       funded_month_9  funded_month_10  funded_month_11  funded_month_12  \n",
       "25582               0                1                0                0  \n",
       "24084               0                0                0                0  \n",
       "25681               0                1                0                0  \n",
       "25685               0                1                0                0  \n",
       "12548               0                0                0                0  \n",
       "\n",
       "[5 rows x 59 columns]"
      ]
     },
     "execution_count": 104,
     "metadata": {},
     "output_type": "execute_result"
    }
   ],
   "source": [
    "#dummies = dummies.drop([ 'company_city', 'investor_name',\n",
    "#      'investor_market', 'investor_city', 'funding_round_type',\n",
    " #      'funded_quarter', 'funded_month','raised_amount_usd'],axis=1)\n",
    "    \n",
    "dummies.head()   "
   ]
  },
  {
   "cell_type": "code",
   "execution_count": 38,
   "metadata": {},
   "outputs": [],
   "source": [
    "from sklearn.linear_model import LinearRegression\n",
    "lm = LinearRegression()"
   ]
  },
  {
   "cell_type": "code",
   "execution_count": 106,
   "metadata": {},
   "outputs": [
    {
     "data": {
      "text/html": [
       "<div>\n",
       "<style scoped>\n",
       "    .dataframe tbody tr th:only-of-type {\n",
       "        vertical-align: middle;\n",
       "    }\n",
       "\n",
       "    .dataframe tbody tr th {\n",
       "        vertical-align: top;\n",
       "    }\n",
       "\n",
       "    .dataframe thead th {\n",
       "        text-align: right;\n",
       "    }\n",
       "</style>\n",
       "<table border=\"1\" class=\"dataframe\">\n",
       "  <thead>\n",
       "    <tr style=\"text-align: right;\">\n",
       "      <th></th>\n",
       "      <th>raised_amount_usd</th>\n",
       "      <th>funding_round_type_angel</th>\n",
       "      <th>funding_round_type_convertible_note</th>\n",
       "      <th>funding_round_type_debt_financing</th>\n",
       "      <th>funding_round_type_equity_crowdfunding</th>\n",
       "      <th>funding_round_type_grant</th>\n",
       "      <th>funding_round_type_post_ipo_debt</th>\n",
       "      <th>funding_round_type_post_ipo_equity</th>\n",
       "      <th>funding_round_type_private_equity</th>\n",
       "      <th>funding_round_type_product_crowdfunding</th>\n",
       "      <th>...</th>\n",
       "      <th>funded_month_3</th>\n",
       "      <th>funded_month_4</th>\n",
       "      <th>funded_month_5</th>\n",
       "      <th>funded_month_6</th>\n",
       "      <th>funded_month_7</th>\n",
       "      <th>funded_month_8</th>\n",
       "      <th>funded_month_9</th>\n",
       "      <th>funded_month_10</th>\n",
       "      <th>funded_month_11</th>\n",
       "      <th>funded_month_12</th>\n",
       "    </tr>\n",
       "  </thead>\n",
       "  <tbody>\n",
       "    <tr>\n",
       "      <th>25582</th>\n",
       "      <td>0</td>\n",
       "      <td>0</td>\n",
       "      <td>0</td>\n",
       "      <td>0</td>\n",
       "      <td>0</td>\n",
       "      <td>0</td>\n",
       "      <td>0</td>\n",
       "      <td>0</td>\n",
       "      <td>0</td>\n",
       "      <td>0</td>\n",
       "      <td>...</td>\n",
       "      <td>0</td>\n",
       "      <td>0</td>\n",
       "      <td>0</td>\n",
       "      <td>0</td>\n",
       "      <td>0</td>\n",
       "      <td>0</td>\n",
       "      <td>0</td>\n",
       "      <td>1</td>\n",
       "      <td>0</td>\n",
       "      <td>0</td>\n",
       "    </tr>\n",
       "    <tr>\n",
       "      <th>24084</th>\n",
       "      <td>0</td>\n",
       "      <td>0</td>\n",
       "      <td>0</td>\n",
       "      <td>0</td>\n",
       "      <td>0</td>\n",
       "      <td>0</td>\n",
       "      <td>0</td>\n",
       "      <td>0</td>\n",
       "      <td>0</td>\n",
       "      <td>0</td>\n",
       "      <td>...</td>\n",
       "      <td>0</td>\n",
       "      <td>0</td>\n",
       "      <td>0</td>\n",
       "      <td>1</td>\n",
       "      <td>0</td>\n",
       "      <td>0</td>\n",
       "      <td>0</td>\n",
       "      <td>0</td>\n",
       "      <td>0</td>\n",
       "      <td>0</td>\n",
       "    </tr>\n",
       "    <tr>\n",
       "      <th>25681</th>\n",
       "      <td>0</td>\n",
       "      <td>0</td>\n",
       "      <td>0</td>\n",
       "      <td>0</td>\n",
       "      <td>0</td>\n",
       "      <td>0</td>\n",
       "      <td>0</td>\n",
       "      <td>0</td>\n",
       "      <td>0</td>\n",
       "      <td>0</td>\n",
       "      <td>...</td>\n",
       "      <td>0</td>\n",
       "      <td>0</td>\n",
       "      <td>0</td>\n",
       "      <td>0</td>\n",
       "      <td>0</td>\n",
       "      <td>0</td>\n",
       "      <td>0</td>\n",
       "      <td>1</td>\n",
       "      <td>0</td>\n",
       "      <td>0</td>\n",
       "    </tr>\n",
       "    <tr>\n",
       "      <th>25685</th>\n",
       "      <td>0</td>\n",
       "      <td>0</td>\n",
       "      <td>0</td>\n",
       "      <td>0</td>\n",
       "      <td>0</td>\n",
       "      <td>0</td>\n",
       "      <td>0</td>\n",
       "      <td>0</td>\n",
       "      <td>0</td>\n",
       "      <td>0</td>\n",
       "      <td>...</td>\n",
       "      <td>0</td>\n",
       "      <td>0</td>\n",
       "      <td>0</td>\n",
       "      <td>0</td>\n",
       "      <td>0</td>\n",
       "      <td>0</td>\n",
       "      <td>0</td>\n",
       "      <td>1</td>\n",
       "      <td>0</td>\n",
       "      <td>0</td>\n",
       "    </tr>\n",
       "    <tr>\n",
       "      <th>12548</th>\n",
       "      <td>0</td>\n",
       "      <td>0</td>\n",
       "      <td>0</td>\n",
       "      <td>0</td>\n",
       "      <td>0</td>\n",
       "      <td>0</td>\n",
       "      <td>0</td>\n",
       "      <td>0</td>\n",
       "      <td>0</td>\n",
       "      <td>0</td>\n",
       "      <td>...</td>\n",
       "      <td>0</td>\n",
       "      <td>0</td>\n",
       "      <td>0</td>\n",
       "      <td>0</td>\n",
       "      <td>0</td>\n",
       "      <td>0</td>\n",
       "      <td>0</td>\n",
       "      <td>0</td>\n",
       "      <td>0</td>\n",
       "      <td>0</td>\n",
       "    </tr>\n",
       "  </tbody>\n",
       "</table>\n",
       "<p>5 rows × 53 columns</p>\n",
       "</div>"
      ],
      "text/plain": [
       "       raised_amount_usd  funding_round_type_angel  \\\n",
       "25582                  0                         0   \n",
       "24084                  0                         0   \n",
       "25681                  0                         0   \n",
       "25685                  0                         0   \n",
       "12548                  0                         0   \n",
       "\n",
       "       funding_round_type_convertible_note  funding_round_type_debt_financing  \\\n",
       "25582                                    0                                  0   \n",
       "24084                                    0                                  0   \n",
       "25681                                    0                                  0   \n",
       "25685                                    0                                  0   \n",
       "12548                                    0                                  0   \n",
       "\n",
       "       funding_round_type_equity_crowdfunding  funding_round_type_grant  \\\n",
       "25582                                       0                         0   \n",
       "24084                                       0                         0   \n",
       "25681                                       0                         0   \n",
       "25685                                       0                         0   \n",
       "12548                                       0                         0   \n",
       "\n",
       "       funding_round_type_post_ipo_debt  funding_round_type_post_ipo_equity  \\\n",
       "25582                                 0                                   0   \n",
       "24084                                 0                                   0   \n",
       "25681                                 0                                   0   \n",
       "25685                                 0                                   0   \n",
       "12548                                 0                                   0   \n",
       "\n",
       "       funding_round_type_private_equity  \\\n",
       "25582                                  0   \n",
       "24084                                  0   \n",
       "25681                                  0   \n",
       "25685                                  0   \n",
       "12548                                  0   \n",
       "\n",
       "       funding_round_type_product_crowdfunding  ...  funded_month_3  \\\n",
       "25582                                        0  ...               0   \n",
       "24084                                        0  ...               0   \n",
       "25681                                        0  ...               0   \n",
       "25685                                        0  ...               0   \n",
       "12548                                        0  ...               0   \n",
       "\n",
       "       funded_month_4  funded_month_5  funded_month_6  funded_month_7  \\\n",
       "25582               0               0               0               0   \n",
       "24084               0               0               1               0   \n",
       "25681               0               0               0               0   \n",
       "25685               0               0               0               0   \n",
       "12548               0               0               0               0   \n",
       "\n",
       "       funded_month_8  funded_month_9  funded_month_10  funded_month_11  \\\n",
       "25582               0               0                1                0   \n",
       "24084               0               0                0                0   \n",
       "25681               0               0                1                0   \n",
       "25685               0               0                1                0   \n",
       "12548               0               0                0                0   \n",
       "\n",
       "       funded_month_12  \n",
       "25582                0  \n",
       "24084                0  \n",
       "25681                0  \n",
       "25685                0  \n",
       "12548                0  \n",
       "\n",
       "[5 rows x 53 columns]"
      ]
     },
     "execution_count": 106,
     "metadata": {},
     "output_type": "execute_result"
    }
   ],
   "source": [
    "X = dummies.drop(['company_market','company_city', 'investor_name',\n",
    "      'investor_market', 'investor_city',\n",
    "       'funded_quarter'],axis=1)\n",
    "#X = dummies\n",
    "X.head()"
   ]
  },
  {
   "cell_type": "code",
   "execution_count": 113,
   "metadata": {},
   "outputs": [
    {
     "data": {
      "text/html": [
       "<div>\n",
       "<style scoped>\n",
       "    .dataframe tbody tr th:only-of-type {\n",
       "        vertical-align: middle;\n",
       "    }\n",
       "\n",
       "    .dataframe tbody tr th {\n",
       "        vertical-align: top;\n",
       "    }\n",
       "\n",
       "    .dataframe thead th {\n",
       "        text-align: right;\n",
       "    }\n",
       "</style>\n",
       "<table border=\"1\" class=\"dataframe\">\n",
       "  <thead>\n",
       "    <tr style=\"text-align: right;\">\n",
       "      <th></th>\n",
       "      <th>raised_amount_usd</th>\n",
       "    </tr>\n",
       "  </thead>\n",
       "  <tbody>\n",
       "    <tr>\n",
       "      <th>25582</th>\n",
       "      <td>0</td>\n",
       "    </tr>\n",
       "    <tr>\n",
       "      <th>24084</th>\n",
       "      <td>0</td>\n",
       "    </tr>\n",
       "    <tr>\n",
       "      <th>25681</th>\n",
       "      <td>0</td>\n",
       "    </tr>\n",
       "    <tr>\n",
       "      <th>25685</th>\n",
       "      <td>0</td>\n",
       "    </tr>\n",
       "    <tr>\n",
       "      <th>12548</th>\n",
       "      <td>0</td>\n",
       "    </tr>\n",
       "  </tbody>\n",
       "</table>\n",
       "</div>"
      ],
      "text/plain": [
       "       raised_amount_usd\n",
       "25582                  0\n",
       "24084                  0\n",
       "25681                  0\n",
       "25685                  0\n",
       "12548                  0"
      ]
     },
     "execution_count": 113,
     "metadata": {},
     "output_type": "execute_result"
    }
   ],
   "source": [
    "y = filter_funds.drop(['company_name','company_market', 'company_city', 'investor_name',\n",
    "    'investor_market', 'investor_city', 'funding_round_type',\n",
    "     'funded_quarter', 'funded_year', 'funded_month'],axis=1)\n",
    "y.head()"
   ]
  },
  {
   "cell_type": "code",
   "execution_count": 114,
   "metadata": {},
   "outputs": [
    {
     "data": {
      "text/plain": [
       "LinearRegression(copy_X=True, fit_intercept=True, n_jobs=None,\n",
       "         normalize=False)"
      ]
     },
     "execution_count": 114,
     "metadata": {},
     "output_type": "execute_result"
    }
   ],
   "source": [
    "lm.fit(X,y)"
   ]
  },
  {
   "cell_type": "code",
   "execution_count": 115,
   "metadata": {},
   "outputs": [
    {
     "data": {
      "text/plain": [
       "array([[7.11621814e-08],\n",
       "       [6.64300976e-08],\n",
       "       [7.11621814e-08],\n",
       "       ...,\n",
       "       [2.10000000e+08],\n",
       "       [2.10000000e+08],\n",
       "       [2.10000000e+08]])"
      ]
     },
     "execution_count": 115,
     "metadata": {},
     "output_type": "execute_result"
    }
   ],
   "source": [
    "predicted_fund = lm.predict(X)\n",
    "predicted_fund"
   ]
  },
  {
   "cell_type": "code",
   "execution_count": 116,
   "metadata": {},
   "outputs": [
    {
     "data": {
      "text/plain": [
       "26080"
      ]
     },
     "execution_count": 116,
     "metadata": {},
     "output_type": "execute_result"
    }
   ],
   "source": [
    "len(predicted_fund)"
   ]
  },
  {
   "cell_type": "markdown",
   "metadata": {},
   "source": [
    "### Linear Plot for actual and predicted data points\n",
    "### Read points are the actual data point\n",
    "### Blue line is the predicted one"
   ]
  },
  {
   "cell_type": "code",
   "execution_count": 117,
   "metadata": {},
   "outputs": [
    {
     "data": {
      "image/png": "[encoded data removed]",
      "text/plain": [
       "<Figure size 864x576 with 1 Axes>"
      ]
     },
     "metadata": {
      "needs_background": "light"
     },
     "output_type": "display_data"
    }
   ],
   "source": [
    "domain = filter_funds.company_market\n",
    "funding_amnt = filter_funds.raised_amount_usd\n",
    "plt.figure(figsize=(12,8))\n",
    "plt.scatter(domain[:50,],funding_amnt[:50,],color='red', marker='+')\n",
    "plt.plot(domain[:50,],predicted_fund[:50,],color='blue')\n",
    "plt.xticks(rotation='vertical')\n",
    "plt.xlabel(\"Domain\")\n",
    "plt.ylabel(\"Fund Raised\")\n",
    "plt.show()"
   ]
  },
  {
   "cell_type": "code",
   "execution_count": 118,
   "metadata": {},
   "outputs": [
    {
     "data": {
      "text/plain": [
       "<matplotlib.axes._subplots.AxesSubplot at 0x1a3169e320>"
      ]
     },
     "execution_count": 118,
     "metadata": {},
     "output_type": "execute_result"
    },
    {
     "data": {
      "image/png": "[encoded data removed]",
      "text/plain": [
       "<Figure size 864x576 with 2 Axes>"
      ]
     },
     "metadata": {
      "needs_background": "light"
     },
     "output_type": "display_data"
    }
   ],
   "source": [
    "plt.figure(figsize=(12,8))\n",
    "plt.subplot(2,2,1)\n",
    "sns.distplot(predicted_fund)\n",
    "plt.title(\"Predicted Funds\")\n",
    "plt.subplot(2,2,2)\n",
    "plt.title(\"Actual Funds\")\n",
    "sns.distplot(y)"
   ]
  },
  {
   "cell_type": "code",
   "execution_count": 119,
   "metadata": {},
   "outputs": [
    {
     "name": "stdout",
     "output_type": "stream",
     "text": [
      "Estimated intercept coefficient: [5.21540642e-08]\n",
      "Number of coefficients: 1\n"
     ]
    }
   ],
   "source": [
    "print('Estimated intercept coefficient: {}'.format(lm.intercept_))\n",
    "print('Number of coefficients: {}'.format(len(lm.coef_)))"
   ]
  },
  {
   "cell_type": "markdown",
   "metadata": {},
   "source": [
    "#### The correlation coefficient has values between -1 to 1\n",
    "##### A value closer to 0 implies weaker correlation (exact 0 implying no correlation)\n",
    "##### A value closer to 1 implies stronger positive correlation\n",
    "##### A value closer to -1 implies stronger negative correlation"
   ]
  },
  {
   "cell_type": "code",
   "execution_count": 120,
   "metadata": {},
   "outputs": [
    {
     "data": {
      "image/png": "[encoded data removed]",
      "text/plain": [
       "<Figure size 432x288 with 2 Axes>"
      ]
     },
     "metadata": {
      "needs_background": "light"
     },
     "output_type": "display_data"
    }
   ],
   "source": [
    "cor = filter_funds.corr()    # These are showing corelation among continues data. To get corelation in categorial data \n",
    "                            # need to study how to do it.\n",
    "sns.heatmap(cor, annot=True, cmap=plt.cm.Reds)\n",
    "plt.show()"
   ]
  },
  {
   "cell_type": "code",
   "execution_count": 121,
   "metadata": {},
   "outputs": [
    {
     "data": {
      "text/plain": [
       "1.0"
      ]
     },
     "execution_count": 121,
     "metadata": {},
     "output_type": "execute_result"
    }
   ],
   "source": [
    "lm.score(X,y)"
   ]
  },
  {
   "cell_type": "code",
   "execution_count": 136,
   "metadata": {},
   "outputs": [],
   "source": [
    "from sklearn.metrics import explained_variance_score"
   ]
  },
  {
   "cell_type": "code",
   "execution_count": 137,
   "metadata": {},
   "outputs": [
    {
     "data": {
      "text/plain": [
       "1.0"
      ]
     },
     "execution_count": 137,
     "metadata": {},
     "output_type": "execute_result"
    }
   ],
   "source": [
    "#print (metrics.accuracy_score(y,predicted_fund))\n",
    "explained_variance_score(y, predicted_fund)"
   ]
  },
  {
   "cell_type": "code",
   "execution_count": 124,
   "metadata": {},
   "outputs": [],
   "source": [
    "from sklearn.model_selection import train_test_split"
   ]
  },
  {
   "cell_type": "markdown",
   "metadata": {},
   "source": [
    "#### train_test_split will select random train and test data \n",
    "#### if you want to don't make it randomize the use  random_state=10"
   ]
  },
  {
   "cell_type": "code",
   "execution_count": 125,
   "metadata": {},
   "outputs": [],
   "source": [
    "X_train,X_test,y_train,y_test = train_test_split(X,y,test_size=0.2) "
   ]
  },
  {
   "cell_type": "code",
   "execution_count": 126,
   "metadata": {},
   "outputs": [],
   "source": [
    "from sklearn.linear_model import LinearRegression\n",
    "clf = LinearRegression()"
   ]
  },
  {
   "cell_type": "code",
   "execution_count": 127,
   "metadata": {},
   "outputs": [
    {
     "data": {
      "text/plain": [
       "LinearRegression(copy_X=True, fit_intercept=True, n_jobs=None,\n",
       "         normalize=False)"
      ]
     },
     "execution_count": 127,
     "metadata": {},
     "output_type": "execute_result"
    }
   ],
   "source": [
    "clf.fit(X_train,y_train)"
   ]
  },
  {
   "cell_type": "code",
   "execution_count": 128,
   "metadata": {},
   "outputs": [
    {
     "data": {
      "text/plain": [
       "array([[ 1300000.        ],\n",
       "       [ 7500000.        ],\n",
       "       [13000000.        ],\n",
       "       ...,\n",
       "       [ 4000000.        ],\n",
       "       [50000000.00000001],\n",
       "       [ 3165000.        ]])"
      ]
     },
     "execution_count": 128,
     "metadata": {},
     "output_type": "execute_result"
    }
   ],
   "source": [
    "tr_pred = clf.predict(X_test)\n",
    "tr_pred"
   ]
  },
  {
   "cell_type": "code",
   "execution_count": 129,
   "metadata": {},
   "outputs": [
    {
     "data": {
      "text/plain": [
       "1.0"
      ]
     },
     "execution_count": 129,
     "metadata": {},
     "output_type": "execute_result"
    }
   ],
   "source": [
    "clf.score(X_test,y_test)"
   ]
  },
  {
   "cell_type": "code",
   "execution_count": 130,
   "metadata": {},
   "outputs": [],
   "source": [
    "from sklearn.neighbors import KNeighborsClassifier"
   ]
  },
  {
   "cell_type": "code",
   "execution_count": 131,
   "metadata": {},
   "outputs": [],
   "source": [
    "knr = KNeighborsClassifier(n_neighbors=1)"
   ]
  },
  {
   "cell_type": "code",
   "execution_count": 132,
   "metadata": {},
   "outputs": [
    {
     "name": "stderr",
     "output_type": "stream",
     "text": [
      "/usr/local/anaconda3/lib/python3.7/site-packages/ipykernel_launcher.py:1: DataConversionWarning: A column-vector y was passed when a 1d array was expected. Please change the shape of y to (n_samples, ), for example using ravel().\n",
      "  \"\"\"Entry point for launching an IPython kernel.\n"
     ]
    },
    {
     "data": {
      "text/plain": [
       "KNeighborsClassifier(algorithm='auto', leaf_size=30, metric='minkowski',\n",
       "           metric_params=None, n_jobs=None, n_neighbors=1, p=2,\n",
       "           weights='uniform')"
      ]
     },
     "execution_count": 132,
     "metadata": {},
     "output_type": "execute_result"
    }
   ],
   "source": [
    "knr.fit(X,y)"
   ]
  },
  {
   "cell_type": "code",
   "execution_count": 133,
   "metadata": {},
   "outputs": [],
   "source": [
    "knny_pred = knr.predict(X)"
   ]
  },
  {
   "cell_type": "code",
   "execution_count": 134,
   "metadata": {},
   "outputs": [
    {
     "name": "stdout",
     "output_type": "stream",
     "text": [
      "1.0\n"
     ]
    }
   ],
   "source": [
    "print(metrics.accuracy_score(y,knny_pred))  ## KNN=5"
   ]
  },
  {
   "cell_type": "code",
   "execution_count": 135,
   "metadata": {},
   "outputs": [
    {
     "name": "stdout",
     "output_type": "stream",
     "text": [
      "1.0\n"
     ]
    }
   ],
   "source": [
    "print(metrics.accuracy_score(y,knny_pred))"
   ]
  },
  {
   "cell_type": "code",
   "execution_count": null,
   "metadata": {},
   "outputs": [],
   "source": []
  }
 ],
 "metadata": {
  "kernelspec": {
   "display_name": "Python 3",
   "language": "python",
   "name": "python3"
  },
  "language_info": {
   "codemirror_mode": {
    "name": "ipython",
    "version": 3
   },
   "file_extension": ".py",
   "mimetype": "text/x-python",
   "name": "python",
   "nbconvert_exporter": "python",
   "pygments_lexer": "ipython3",
   "version": "3.7.3"
  }
 },
 "nbformat": 4,
 "nbformat_minor": 2
}
