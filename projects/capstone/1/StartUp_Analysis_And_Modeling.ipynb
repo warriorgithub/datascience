{
 "cells": [
  {
   "cell_type": "code",
   "execution_count": 25,
   "metadata": {},
   "outputs": [],
   "source": [
    "import pandas as pd\n",
    "import numpy as np\n",
    "import matplotlib.pyplot as plt\n",
    "import seaborn as sns\n",
    "from pylab import rcParams\n",
    "%matplotlib inline\n",
    "rcParams['figure.figsize']=5,4"
   ]
  },
  {
   "cell_type": "code",
   "execution_count": 2,
   "metadata": {},
   "outputs": [],
   "source": [
    "file = \"DataAcquisitionMerging/requireddata.xlsx\"\n",
    "pd.options.display.float_format = '{:.2f}'.format  # to get rid of large decimal point in excel\n",
    "funds= pd.read_excel(file,index=False)\n",
    "funds = funds.loc[:, ~funds.columns.str.contains('^Unnamed')]"
   ]
  },
  {
   "cell_type": "code",
   "execution_count": 3,
   "metadata": {},
   "outputs": [
    {
     "data": {
      "text/html": [
       "<div>\n",
       "<style scoped>\n",
       "    .dataframe tbody tr th:only-of-type {\n",
       "        vertical-align: middle;\n",
       "    }\n",
       "\n",
       "    .dataframe tbody tr th {\n",
       "        vertical-align: top;\n",
       "    }\n",
       "\n",
       "    .dataframe thead th {\n",
       "        text-align: right;\n",
       "    }\n",
       "</style>\n",
       "<table border=\"1\" class=\"dataframe\">\n",
       "  <thead>\n",
       "    <tr style=\"text-align: right;\">\n",
       "      <th></th>\n",
       "      <th>company_name</th>\n",
       "      <th>company_market</th>\n",
       "      <th>company_city</th>\n",
       "      <th>investor_name</th>\n",
       "      <th>investor_market</th>\n",
       "      <th>investor_city</th>\n",
       "      <th>funding_round_type</th>\n",
       "      <th>funded_at</th>\n",
       "      <th>funded_quarter</th>\n",
       "      <th>funded_year</th>\n",
       "      <th>raised_amount_usd</th>\n",
       "    </tr>\n",
       "  </thead>\n",
       "  <tbody>\n",
       "    <tr>\n",
       "      <th>0</th>\n",
       "      <td>Lenovo</td>\n",
       "      <td>Hardware</td>\n",
       "      <td>Morrisville</td>\n",
       "      <td>Chinese Academy Of Sciences</td>\n",
       "      <td>Education</td>\n",
       "      <td>Beijing</td>\n",
       "      <td>undisclosed</td>\n",
       "      <td>1984-01-01</td>\n",
       "      <td>1984-Q1</td>\n",
       "      <td>1984</td>\n",
       "      <td>12663383.67</td>\n",
       "    </tr>\n",
       "    <tr>\n",
       "      <th>1</th>\n",
       "      <td>Cisco</td>\n",
       "      <td>Software</td>\n",
       "      <td>San Jose</td>\n",
       "      <td>Sequoia Capital</td>\n",
       "      <td>Venture Capital</td>\n",
       "      <td>Menlo Park</td>\n",
       "      <td>venture</td>\n",
       "      <td>1987-01-01</td>\n",
       "      <td>1987-Q1</td>\n",
       "      <td>1987</td>\n",
       "      <td>2500000.00</td>\n",
       "    </tr>\n",
       "    <tr>\n",
       "      <th>2</th>\n",
       "      <td>Office Depot</td>\n",
       "      <td>E-Commerce</td>\n",
       "      <td>Boca Raton</td>\n",
       "      <td>Upfront Ventures</td>\n",
       "      <td>Finance</td>\n",
       "      <td>Los Angeles</td>\n",
       "      <td>undisclosed</td>\n",
       "      <td>1989-06-01</td>\n",
       "      <td>1989-Q2</td>\n",
       "      <td>1989</td>\n",
       "      <td>12663383.67</td>\n",
       "    </tr>\n",
       "    <tr>\n",
       "      <th>3</th>\n",
       "      <td>Market Wire</td>\n",
       "      <td>Advertising</td>\n",
       "      <td>El Segundo</td>\n",
       "      <td>Perkins Coie</td>\n",
       "      <td>Legal</td>\n",
       "      <td>Anchorage</td>\n",
       "      <td>venture</td>\n",
       "      <td>1990-11-30</td>\n",
       "      <td>1990-Q4</td>\n",
       "      <td>1990</td>\n",
       "      <td>17550000.00</td>\n",
       "    </tr>\n",
       "    <tr>\n",
       "      <th>4</th>\n",
       "      <td>Market Wire</td>\n",
       "      <td>Advertising</td>\n",
       "      <td>El Segundo</td>\n",
       "      <td>Sequoia Capital</td>\n",
       "      <td>Venture Capital</td>\n",
       "      <td>Menlo Park</td>\n",
       "      <td>venture</td>\n",
       "      <td>1990-11-30</td>\n",
       "      <td>1990-Q4</td>\n",
       "      <td>1990</td>\n",
       "      <td>17550000.00</td>\n",
       "    </tr>\n",
       "  </tbody>\n",
       "</table>\n",
       "</div>"
      ],
      "text/plain": [
       "   company_name company_market company_city                investor_name  \\\n",
       "0        Lenovo       Hardware  Morrisville  Chinese Academy Of Sciences   \n",
       "1         Cisco       Software     San Jose              Sequoia Capital   \n",
       "2  Office Depot     E-Commerce   Boca Raton             Upfront Ventures   \n",
       "3   Market Wire    Advertising   El Segundo                 Perkins Coie   \n",
       "4   Market Wire    Advertising   El Segundo              Sequoia Capital   \n",
       "\n",
       "   investor_market investor_city funding_round_type  funded_at funded_quarter  \\\n",
       "0        Education       Beijing        undisclosed 1984-01-01        1984-Q1   \n",
       "1  Venture Capital    Menlo Park            venture 1987-01-01        1987-Q1   \n",
       "2          Finance   Los Angeles        undisclosed 1989-06-01        1989-Q2   \n",
       "3            Legal     Anchorage            venture 1990-11-30        1990-Q4   \n",
       "4  Venture Capital    Menlo Park            venture 1990-11-30        1990-Q4   \n",
       "\n",
       "   funded_year  raised_amount_usd  \n",
       "0         1984        12663383.67  \n",
       "1         1987         2500000.00  \n",
       "2         1989        12663383.67  \n",
       "3         1990        17550000.00  \n",
       "4         1990        17550000.00  "
      ]
     },
     "execution_count": 3,
     "metadata": {},
     "output_type": "execute_result"
    }
   ],
   "source": [
    "funds.head()"
   ]
  },
  {
   "cell_type": "code",
   "execution_count": 4,
   "metadata": {},
   "outputs": [],
   "source": [
    "revised_funds = funds"
   ]
  },
  {
   "cell_type": "code",
   "execution_count": 5,
   "metadata": {},
   "outputs": [],
   "source": [
    "revised_funds['funded_month'] = pd.DatetimeIndex(revised_funds['funded_at']).month\n",
    "revised_funds.funded_quarter = revised_funds.funded_quarter.str[5:7]"
   ]
  },
  {
   "cell_type": "code",
   "execution_count": 6,
   "metadata": {},
   "outputs": [],
   "source": [
    "revised_funds = revised_funds.drop(['funded_at'],axis=1)"
   ]
  },
  {
   "cell_type": "code",
   "execution_count": 7,
   "metadata": {},
   "outputs": [
    {
     "data": {
      "text/html": [
       "<div>\n",
       "<style scoped>\n",
       "    .dataframe tbody tr th:only-of-type {\n",
       "        vertical-align: middle;\n",
       "    }\n",
       "\n",
       "    .dataframe tbody tr th {\n",
       "        vertical-align: top;\n",
       "    }\n",
       "\n",
       "    .dataframe thead th {\n",
       "        text-align: right;\n",
       "    }\n",
       "</style>\n",
       "<table border=\"1\" class=\"dataframe\">\n",
       "  <thead>\n",
       "    <tr style=\"text-align: right;\">\n",
       "      <th></th>\n",
       "      <th>company_name</th>\n",
       "      <th>company_market</th>\n",
       "      <th>company_city</th>\n",
       "      <th>investor_name</th>\n",
       "      <th>investor_market</th>\n",
       "      <th>investor_city</th>\n",
       "      <th>funding_round_type</th>\n",
       "      <th>funded_quarter</th>\n",
       "      <th>funded_year</th>\n",
       "      <th>raised_amount_usd</th>\n",
       "      <th>funded_month</th>\n",
       "    </tr>\n",
       "  </thead>\n",
       "  <tbody>\n",
       "    <tr>\n",
       "      <th>0</th>\n",
       "      <td>Lenovo</td>\n",
       "      <td>Hardware</td>\n",
       "      <td>Morrisville</td>\n",
       "      <td>Chinese Academy Of Sciences</td>\n",
       "      <td>Education</td>\n",
       "      <td>Beijing</td>\n",
       "      <td>undisclosed</td>\n",
       "      <td>Q1</td>\n",
       "      <td>1984</td>\n",
       "      <td>12663383.67</td>\n",
       "      <td>1</td>\n",
       "    </tr>\n",
       "    <tr>\n",
       "      <th>1</th>\n",
       "      <td>Cisco</td>\n",
       "      <td>Software</td>\n",
       "      <td>San Jose</td>\n",
       "      <td>Sequoia Capital</td>\n",
       "      <td>Venture Capital</td>\n",
       "      <td>Menlo Park</td>\n",
       "      <td>venture</td>\n",
       "      <td>Q1</td>\n",
       "      <td>1987</td>\n",
       "      <td>2500000.00</td>\n",
       "      <td>1</td>\n",
       "    </tr>\n",
       "    <tr>\n",
       "      <th>2</th>\n",
       "      <td>Office Depot</td>\n",
       "      <td>E-Commerce</td>\n",
       "      <td>Boca Raton</td>\n",
       "      <td>Upfront Ventures</td>\n",
       "      <td>Finance</td>\n",
       "      <td>Los Angeles</td>\n",
       "      <td>undisclosed</td>\n",
       "      <td>Q2</td>\n",
       "      <td>1989</td>\n",
       "      <td>12663383.67</td>\n",
       "      <td>6</td>\n",
       "    </tr>\n",
       "    <tr>\n",
       "      <th>3</th>\n",
       "      <td>Market Wire</td>\n",
       "      <td>Advertising</td>\n",
       "      <td>El Segundo</td>\n",
       "      <td>Perkins Coie</td>\n",
       "      <td>Legal</td>\n",
       "      <td>Anchorage</td>\n",
       "      <td>venture</td>\n",
       "      <td>Q4</td>\n",
       "      <td>1990</td>\n",
       "      <td>17550000.00</td>\n",
       "      <td>11</td>\n",
       "    </tr>\n",
       "  </tbody>\n",
       "</table>\n",
       "</div>"
      ],
      "text/plain": [
       "   company_name company_market company_city                investor_name  \\\n",
       "0        Lenovo       Hardware  Morrisville  Chinese Academy Of Sciences   \n",
       "1         Cisco       Software     San Jose              Sequoia Capital   \n",
       "2  Office Depot     E-Commerce   Boca Raton             Upfront Ventures   \n",
       "3   Market Wire    Advertising   El Segundo                 Perkins Coie   \n",
       "\n",
       "   investor_market investor_city funding_round_type funded_quarter  \\\n",
       "0        Education       Beijing        undisclosed             Q1   \n",
       "1  Venture Capital    Menlo Park            venture             Q1   \n",
       "2          Finance   Los Angeles        undisclosed             Q2   \n",
       "3            Legal     Anchorage            venture             Q4   \n",
       "\n",
       "   funded_year  raised_amount_usd  funded_month  \n",
       "0         1984        12663383.67             1  \n",
       "1         1987         2500000.00             1  \n",
       "2         1989        12663383.67             6  \n",
       "3         1990        17550000.00            11  "
      ]
     },
     "execution_count": 7,
     "metadata": {},
     "output_type": "execute_result"
    }
   ],
   "source": [
    "revised_funds.head(4)"
   ]
  },
  {
   "cell_type": "code",
   "execution_count": 103,
   "metadata": {},
   "outputs": [],
   "source": [
    "sorted_funds = revised_funds.sort_values('raised_amount_usd',ascending=False)"
   ]
  },
  {
   "cell_type": "code",
   "execution_count": 104,
   "metadata": {},
   "outputs": [
    {
     "data": {
      "text/html": [
       "<div>\n",
       "<style scoped>\n",
       "    .dataframe tbody tr th:only-of-type {\n",
       "        vertical-align: middle;\n",
       "    }\n",
       "\n",
       "    .dataframe tbody tr th {\n",
       "        vertical-align: top;\n",
       "    }\n",
       "\n",
       "    .dataframe thead th {\n",
       "        text-align: right;\n",
       "    }\n",
       "</style>\n",
       "<table border=\"1\" class=\"dataframe\">\n",
       "  <thead>\n",
       "    <tr style=\"text-align: right;\">\n",
       "      <th></th>\n",
       "      <th>funded_year</th>\n",
       "      <th>raised_amount_usd</th>\n",
       "      <th>funded_month</th>\n",
       "    </tr>\n",
       "  </thead>\n",
       "  <tbody>\n",
       "    <tr>\n",
       "      <th>count</th>\n",
       "      <td>26209.00</td>\n",
       "      <td>26209.00</td>\n",
       "      <td>26209.00</td>\n",
       "    </tr>\n",
       "    <tr>\n",
       "      <th>mean</th>\n",
       "      <td>2010.90</td>\n",
       "      <td>15600428.16</td>\n",
       "      <td>6.35</td>\n",
       "    </tr>\n",
       "    <tr>\n",
       "      <th>std</th>\n",
       "      <td>2.93</td>\n",
       "      <td>64970607.29</td>\n",
       "      <td>3.40</td>\n",
       "    </tr>\n",
       "    <tr>\n",
       "      <th>min</th>\n",
       "      <td>1984.00</td>\n",
       "      <td>0.00</td>\n",
       "      <td>1.00</td>\n",
       "    </tr>\n",
       "    <tr>\n",
       "      <th>25%</th>\n",
       "      <td>2009.00</td>\n",
       "      <td>1800000.00</td>\n",
       "      <td>3.00</td>\n",
       "    </tr>\n",
       "    <tr>\n",
       "      <th>50%</th>\n",
       "      <td>2012.00</td>\n",
       "      <td>8000000.00</td>\n",
       "      <td>6.00</td>\n",
       "    </tr>\n",
       "    <tr>\n",
       "      <th>75%</th>\n",
       "      <td>2013.00</td>\n",
       "      <td>13000000.00</td>\n",
       "      <td>9.00</td>\n",
       "    </tr>\n",
       "    <tr>\n",
       "      <th>max</th>\n",
       "      <td>2014.00</td>\n",
       "      <td>3200000000.00</td>\n",
       "      <td>12.00</td>\n",
       "    </tr>\n",
       "  </tbody>\n",
       "</table>\n",
       "</div>"
      ],
      "text/plain": [
       "       funded_year  raised_amount_usd  funded_month\n",
       "count     26209.00           26209.00      26209.00\n",
       "mean       2010.90        15600428.16          6.35\n",
       "std           2.93        64970607.29          3.40\n",
       "min        1984.00               0.00          1.00\n",
       "25%        2009.00         1800000.00          3.00\n",
       "50%        2012.00         8000000.00          6.00\n",
       "75%        2013.00        13000000.00          9.00\n",
       "max        2014.00      3200000000.00         12.00"
      ]
     },
     "execution_count": 104,
     "metadata": {},
     "output_type": "execute_result"
    }
   ],
   "source": [
    "sorted_funds.describe()"
   ]
  },
  {
   "cell_type": "markdown",
   "metadata": {},
   "source": [
    "### Detect outliears"
   ]
  },
  {
   "cell_type": "markdown",
   "metadata": {},
   "source": [
    "#### Using Z score"
   ]
  },
  {
   "cell_type": "markdown",
   "metadata": {},
   "source": [
    "#### z=(X-u)/std   #mean"
   ]
  },
  {
   "cell_type": "code",
   "execution_count": 105,
   "metadata": {},
   "outputs": [],
   "source": [
    "outliers=[]\n",
    "def detect_outliers(data):\n",
    "    threshold=3;\n",
    "    mean = np.mean(data)\n",
    "    std = np.std(data)\n",
    "    \n",
    "    for i in data:\n",
    "        z_score = (i-mean)/std\n",
    "        \n",
    "        if np.abs(z_score)>threshold:\n",
    "            outliers.append(i)\n",
    "    return outliers"
   ]
  },
  {
   "cell_type": "code",
   "execution_count": 106,
   "metadata": {},
   "outputs": [],
   "source": [
    "out = detect_outliers(sorted_funds.raised_amount_usd)\n"
   ]
  },
  {
   "cell_type": "code",
   "execution_count": 108,
   "metadata": {},
   "outputs": [],
   "source": [
    "sorted_funds = sorted_funds[~sorted_funds['raised_amount_usd'].isin(out)]"
   ]
  },
  {
   "cell_type": "code",
   "execution_count": 110,
   "metadata": {},
   "outputs": [
    {
     "data": {
      "text/html": [
       "<div>\n",
       "<style scoped>\n",
       "    .dataframe tbody tr th:only-of-type {\n",
       "        vertical-align: middle;\n",
       "    }\n",
       "\n",
       "    .dataframe tbody tr th {\n",
       "        vertical-align: top;\n",
       "    }\n",
       "\n",
       "    .dataframe thead th {\n",
       "        text-align: right;\n",
       "    }\n",
       "</style>\n",
       "<table border=\"1\" class=\"dataframe\">\n",
       "  <thead>\n",
       "    <tr style=\"text-align: right;\">\n",
       "      <th></th>\n",
       "      <th>company_name</th>\n",
       "      <th>company_market</th>\n",
       "      <th>company_city</th>\n",
       "      <th>investor_name</th>\n",
       "      <th>investor_market</th>\n",
       "      <th>investor_city</th>\n",
       "      <th>funding_round_type</th>\n",
       "      <th>funded_quarter</th>\n",
       "      <th>funded_year</th>\n",
       "      <th>raised_amount_usd</th>\n",
       "      <th>funded_month</th>\n",
       "    </tr>\n",
       "  </thead>\n",
       "  <tbody>\n",
       "    <tr>\n",
       "      <th>23640</th>\n",
       "      <td>Flipkart</td>\n",
       "      <td>Online Shopping</td>\n",
       "      <td>Bangalore</td>\n",
       "      <td>Tiger Global Management</td>\n",
       "      <td>Investment Management</td>\n",
       "      <td>New York</td>\n",
       "      <td>venture</td>\n",
       "      <td>Q2</td>\n",
       "      <td>2014</td>\n",
       "      <td>210000000.00</td>\n",
       "      <td>5</td>\n",
       "    </tr>\n",
       "    <tr>\n",
       "      <th>23635</th>\n",
       "      <td>Flipkart</td>\n",
       "      <td>Online Shopping</td>\n",
       "      <td>Bangalore</td>\n",
       "      <td>DST Global</td>\n",
       "      <td>Software</td>\n",
       "      <td>Surbiton</td>\n",
       "      <td>venture</td>\n",
       "      <td>Q2</td>\n",
       "      <td>2014</td>\n",
       "      <td>210000000.00</td>\n",
       "      <td>5</td>\n",
       "    </tr>\n",
       "    <tr>\n",
       "      <th>23638</th>\n",
       "      <td>Flipkart</td>\n",
       "      <td>Online Shopping</td>\n",
       "      <td>Bangalore</td>\n",
       "      <td>Naspers</td>\n",
       "      <td>Media</td>\n",
       "      <td>Cape Town</td>\n",
       "      <td>venture</td>\n",
       "      <td>Q2</td>\n",
       "      <td>2014</td>\n",
       "      <td>210000000.00</td>\n",
       "      <td>5</td>\n",
       "    </tr>\n",
       "    <tr>\n",
       "      <th>25845</th>\n",
       "      <td>Ola (ANI Technologies Pvt. Ltd.)</td>\n",
       "      <td>Transportation</td>\n",
       "      <td>Bangalore</td>\n",
       "      <td>SoftBank</td>\n",
       "      <td>Media</td>\n",
       "      <td>Tokyo</td>\n",
       "      <td>venture</td>\n",
       "      <td>Q4</td>\n",
       "      <td>2014</td>\n",
       "      <td>210000000.00</td>\n",
       "      <td>10</td>\n",
       "    </tr>\n",
       "    <tr>\n",
       "      <th>19434</th>\n",
       "      <td>Highwinds</td>\n",
       "      <td>Software</td>\n",
       "      <td>Winter Park</td>\n",
       "      <td>Goldman Sachs</td>\n",
       "      <td>Finance</td>\n",
       "      <td>New York</td>\n",
       "      <td>debt_financing</td>\n",
       "      <td>Q3</td>\n",
       "      <td>2013</td>\n",
       "      <td>205000000.00</td>\n",
       "      <td>8</td>\n",
       "    </tr>\n",
       "  </tbody>\n",
       "</table>\n",
       "</div>"
      ],
      "text/plain": [
       "                           company_name   company_market company_city  \\\n",
       "23640                          Flipkart  Online Shopping    Bangalore   \n",
       "23635                          Flipkart  Online Shopping    Bangalore   \n",
       "23638                          Flipkart  Online Shopping    Bangalore   \n",
       "25845  Ola (ANI Technologies Pvt. Ltd.)   Transportation    Bangalore   \n",
       "19434                         Highwinds         Software  Winter Park   \n",
       "\n",
       "                 investor_name        investor_market investor_city  \\\n",
       "23640  Tiger Global Management  Investment Management      New York   \n",
       "23635               DST Global               Software      Surbiton   \n",
       "23638                  Naspers                  Media     Cape Town   \n",
       "25845                 SoftBank                  Media         Tokyo   \n",
       "19434            Goldman Sachs                Finance      New York   \n",
       "\n",
       "      funding_round_type funded_quarter  funded_year  raised_amount_usd  \\\n",
       "23640            venture             Q2         2014       210000000.00   \n",
       "23635            venture             Q2         2014       210000000.00   \n",
       "23638            venture             Q2         2014       210000000.00   \n",
       "25845            venture             Q4         2014       210000000.00   \n",
       "19434     debt_financing             Q3         2013       205000000.00   \n",
       "\n",
       "       funded_month  \n",
       "23640             5  \n",
       "23635             5  \n",
       "23638             5  \n",
       "25845            10  \n",
       "19434             8  "
      ]
     },
     "execution_count": 110,
     "metadata": {},
     "output_type": "execute_result"
    }
   ],
   "source": [
    "sorted_funds.head()"
   ]
  },
  {
   "cell_type": "code",
   "execution_count": 111,
   "metadata": {},
   "outputs": [
    {
     "data": {
      "text/plain": [
       "<matplotlib.axes._subplots.AxesSubplot at 0x1a2dc0e048>"
      ]
     },
     "execution_count": 111,
     "metadata": {},
     "output_type": "execute_result"
    },
    {
     "data": {
      "image/png": "[encoded data removed]",
      "text/plain": [
       "<Figure size 1008x576 with 1 Axes>"
      ]
     },
     "metadata": {
      "needs_background": "light"
     },
     "output_type": "display_data"
    }
   ],
   "source": [
    "plt.figure(figsize=(14,8))\n",
    "sns.scatterplot(sorted_funds['raised_amount_usd'],sorted_funds['funded_year'])"
   ]
  },
  {
   "cell_type": "code",
   "execution_count": 113,
   "metadata": {},
   "outputs": [
    {
     "data": {
      "text/plain": [
       "<matplotlib.axes._subplots.AxesSubplot at 0x1a2bbf4198>"
      ]
     },
     "execution_count": 113,
     "metadata": {},
     "output_type": "execute_result"
    },
    {
     "data": {
      "image/png": "[encoded data removed]",
      "text/plain": [
       "<Figure size 360x288 with 1 Axes>"
      ]
     },
     "metadata": {
      "needs_background": "light"
     },
     "output_type": "display_data"
    }
   ],
   "source": [
    "sns.distplot(sorted_funds.raised_amount_usd)"
   ]
  },
  {
   "cell_type": "code",
   "execution_count": null,
   "metadata": {},
   "outputs": [],
   "source": []
  },
  {
   "cell_type": "code",
   "execution_count": null,
   "metadata": {},
   "outputs": [],
   "source": []
  },
  {
   "cell_type": "markdown",
   "metadata": {},
   "source": [
    "### Now lets find what all features are important to build the model"
   ]
  },
  {
   "cell_type": "markdown",
   "metadata": {},
   "source": [
    "#### Lets try Wrapping method"
   ]
  },
  {
   "cell_type": "code",
   "execution_count": 186,
   "metadata": {},
   "outputs": [],
   "source": [
    "fund_df = pd.get_dummies(data=sorted_funds,columns=['company_market'])"
   ]
  },
  {
   "cell_type": "code",
   "execution_count": 187,
   "metadata": {},
   "outputs": [],
   "source": [
    "from sklearn.model_selection import train_test_split"
   ]
  },
  {
   "cell_type": "code",
   "execution_count": 188,
   "metadata": {},
   "outputs": [],
   "source": [
    "X = fund_df.drop(['company_name', 'company_city', 'investor_name', 'investor_market',\n",
    "       'investor_city', 'funding_round_type', 'funded_quarter', 'funded_year',\n",
    "       'raised_amount_usd', 'funded_month'],axis=1)"
   ]
  },
  {
   "cell_type": "code",
   "execution_count": 189,
   "metadata": {},
   "outputs": [],
   "source": [
    "y = sorted_funds.raised_amount_usd"
   ]
  },
  {
   "cell_type": "code",
   "execution_count": 218,
   "metadata": {},
   "outputs": [],
   "source": [
    "from sklearn.model_selection import train_test_split\n",
    "from sklearn.linear_model import LinearRegression\n",
    "from sklearn.metrics import mean_squared_error\n",
    "from sklearn.metrics import r2_score\n",
    "def feature_wrapper(X,y):\n",
    "    X_train,X_test,y_train,y_test= train_test_split(X,y,test_size=0.2)\n",
    "    lr = LinearRegression()\n",
    "    lr.fit(X_train,y_train)\n",
    "    y_pred = lr.predict(X_test)\n",
    "    print('Predicted value : ',y_pred)\n",
    "    print('MSE : ',mean_squared_error(y_test,y_pred))\n",
    "    print('RMSE : ',np.sqrt(mean_squared_error(y_test,y_pred)))\n",
    "    print('R square score : ',r2_score(y_test,y_pred))"
   ]
  },
  {
   "cell_type": "code",
   "execution_count": 222,
   "metadata": {},
   "outputs": [
    {
     "name": "stdout",
     "output_type": "stream",
     "text": [
      "Predicted value :  [ 1728512. 13893632. 11829248. ... 22880256.  -565248. 16310272.]\n",
      "MSE :  5.155776039704167e+32\n",
      "RMSE :  2.2706334005524024e+16\n",
      "R square score :  -1.5465071316195633e+18\n"
     ]
    }
   ],
   "source": [
    "feature_wrapper(X,y)"
   ]
  },
  {
   "cell_type": "code",
   "execution_count": 243,
   "metadata": {},
   "outputs": [],
   "source": [
    "fund_df = pd.get_dummies(data=sorted_funds,columns=['investor_market'])"
   ]
  },
  {
   "cell_type": "code",
   "execution_count": 244,
   "metadata": {},
   "outputs": [],
   "source": [
    "X = fund_df.drop(['company_name', 'company_market','company_city', 'investor_name',\n",
    "       'investor_city', 'funding_round_type', 'funded_quarter', 'funded_year',\n",
    "       'raised_amount_usd', 'funded_month'],axis=1)\n"
   ]
  },
  {
   "cell_type": "code",
   "execution_count": 245,
   "metadata": {},
   "outputs": [
    {
     "name": "stdout",
     "output_type": "stream",
     "text": [
      "Predicted value :  [12551093.86913645 12658615.12968597 12658615.12968597 ...\n",
      " 12551093.86913645 12658615.12968597 12551093.86913645]\n",
      "MSE :  328963967672213.94\n",
      "RMSE :  18137363.856752004\n",
      "R square score :  0.02584578036209506\n"
     ]
    }
   ],
   "source": [
    "feature_wrapper(X,y)"
   ]
  },
  {
   "cell_type": "code",
   "execution_count": 246,
   "metadata": {},
   "outputs": [],
   "source": [
    "fund_df = pd.get_dummies(data=sorted_funds,columns=['investor_city'])"
   ]
  },
  {
   "cell_type": "code",
   "execution_count": 251,
   "metadata": {},
   "outputs": [],
   "source": [
    "X = fund_df.drop(['company_name','company_market', 'company_city', 'investor_name','investor_market', \n",
    "                  'funding_round_type', 'funded_quarter', 'funded_year','raised_amount_usd', 'funded_month'],axis=1)\n"
   ]
  },
  {
   "cell_type": "code",
   "execution_count": 253,
   "metadata": {},
   "outputs": [
    {
     "name": "stdout",
     "output_type": "stream",
     "text": [
      "Predicted value :  [16184320. 10753024. 16184320. ... 15266816. 16831488.  9491456.]\n",
      "MSE :  6.838143958067731e+38\n",
      "RMSE :  2.614984504364745e+19\n",
      "R square score :  -2.1865711938470708e+24\n"
     ]
    }
   ],
   "source": [
    "feature_wrapper(X,y)"
   ]
  },
  {
   "cell_type": "code",
   "execution_count": 256,
   "metadata": {},
   "outputs": [],
   "source": [
    "fund_df = pd.get_dummies(data=sorted_funds,columns=['funding_round_type'])"
   ]
  },
  {
   "cell_type": "code",
   "execution_count": 261,
   "metadata": {},
   "outputs": [],
   "source": [
    "X = fund_df.drop(['company_name','company_market', 'company_city', 'investor_name','investor_market','investor_city', \n",
    "                   'funded_quarter', 'funded_year','raised_amount_usd', 'funded_month'],axis=1)\n"
   ]
  },
  {
   "cell_type": "code",
   "execution_count": 304,
   "metadata": {},
   "outputs": [
    {
     "name": "stdout",
     "output_type": "stream",
     "text": [
      "Predicted value :  [12417006.5785381  12733053.50197371 12100959.65510248 ...\n",
      " 12575030.0402559  12496018.309397   12575030.0402559 ]\n",
      "MSE :  402183187164722.94\n",
      "RMSE :  20054505.408130188\n",
      "R square score :  0.0001609982111681063\n"
     ]
    }
   ],
   "source": [
    "feature_wrapper(X,y)"
   ]
  },
  {
   "cell_type": "code",
   "execution_count": 293,
   "metadata": {},
   "outputs": [],
   "source": [
    "fund_df = pd.get_dummies(data=sorted_funds,columns=['funded_quarter'])"
   ]
  },
  {
   "cell_type": "code",
   "execution_count": 268,
   "metadata": {},
   "outputs": [],
   "source": [
    "X = fund_df.drop(['company_name','company_market', 'company_city', 'investor_name', 'investor_market',\n",
    "       'investor_city', 'funding_round_type', 'funded_year',\n",
    "       'raised_amount_usd', 'funded_month'],axis=1)\n"
   ]
  },
  {
   "cell_type": "code",
   "execution_count": 269,
   "metadata": {},
   "outputs": [
    {
     "name": "stdout",
     "output_type": "stream",
     "text": [
      "Predicted value :  [13119488. 13094912. 12709888. ... 12709888. 13119488. 13094912.]\n",
      "MSE :  312051648406084.3\n",
      "RMSE :  17664983.67975709\n",
      "R square score :  -0.0011285738495032671\n"
     ]
    }
   ],
   "source": [
    "feature_wrapper(X,y)"
   ]
  },
  {
   "cell_type": "code",
   "execution_count": 286,
   "metadata": {},
   "outputs": [],
   "source": [
    "X = fund_df[['funded_year']]"
   ]
  },
  {
   "cell_type": "code",
   "execution_count": 289,
   "metadata": {},
   "outputs": [
    {
     "name": "stdout",
     "output_type": "stream",
     "text": [
      "Predicted value :  [12164935.94698328 12437158.09421974 12437158.09421974 ...\n",
      " 12164935.94698328 13117713.46231097 12981602.38869274]\n",
      "MSE :  358488572018912.8\n",
      "RMSE :  18933794.44324124\n",
      "R square score :  0.0005584404081973027\n"
     ]
    }
   ],
   "source": [
    "feature_wrapper(X,y)"
   ]
  },
  {
   "cell_type": "code",
   "execution_count": 290,
   "metadata": {},
   "outputs": [],
   "source": [
    "X = fund_df[['funded_month']]"
   ]
  },
  {
   "cell_type": "code",
   "execution_count": 291,
   "metadata": {},
   "outputs": [
    {
     "name": "stdout",
     "output_type": "stream",
     "text": [
      "Predicted value :  [12170811.54729843 13022929.59404182 12490355.8148272  ...\n",
      " 12170811.54729843 12170811.54729843 12703385.32651305]\n",
      "MSE :  355242472666994.8\n",
      "RMSE :  18847877.1395347\n",
      "R square score :  0.00018924521414942497\n"
     ]
    }
   ],
   "source": [
    "feature_wrapper(X,y)"
   ]
  },
  {
   "cell_type": "code",
   "execution_count": 307,
   "metadata": {},
   "outputs": [],
   "source": [
    "dummies_fund = pd.get_dummies(data=sorted_funds,columns=['company_name', 'company_market', 'company_city', 'investor_name',\n",
    "       'investor_market', 'investor_city', 'funding_round_type',\n",
    "       'funded_quarter'])"
   ]
  },
  {
   "cell_type": "code",
   "execution_count": null,
   "metadata": {},
   "outputs": [],
   "source": [
    "sns.heatmap(dummies_fund)"
   ]
  },
  {
   "cell_type": "code",
   "execution_count": null,
   "metadata": {},
   "outputs": [],
   "source": []
  }
 ],
 "metadata": {
  "kernelspec": {
   "display_name": "Python 3",
   "language": "python",
   "name": "python3"
  },
  "language_info": {
   "codemirror_mode": {
    "name": "ipython",
    "version": 3
   },
   "file_extension": ".py",
   "mimetype": "text/x-python",
   "name": "python",
   "nbconvert_exporter": "python",
   "pygments_lexer": "ipython3",
   "version": "3.7.3"
  }
 },
 "nbformat": 4,
 "nbformat_minor": 2
}
